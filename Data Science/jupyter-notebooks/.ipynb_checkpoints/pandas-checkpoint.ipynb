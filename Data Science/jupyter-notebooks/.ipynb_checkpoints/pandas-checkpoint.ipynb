{
 "cells": [
  {
   "cell_type": "code",
   "execution_count": 1,
   "metadata": {
    "attributes": {
     "classes": [],
     "id": "",
     "n": "1"
    }
   },
   "outputs": [],
   "source": [
    "import pandas as pd"
   ]
  },
  {
   "cell_type": "markdown",
   "metadata": {},
   "source": [
    "## Checking out the data\n",
    "\n",
    "We can use `head` to have a peek at the data. We can\n",
    "specify the number of rows we desire."
   ]
  },
  {
   "cell_type": "code",
   "execution_count": 2,
   "metadata": {
    "attributes": {
     "classes": [],
     "id": "",
     "n": "2"
    }
   },
   "outputs": [
    {
     "data": {
      "text/html": [
       "<div>\n",
       "<style scoped>\n",
       "    .dataframe tbody tr th:only-of-type {\n",
       "        vertical-align: middle;\n",
       "    }\n",
       "\n",
       "    .dataframe tbody tr th {\n",
       "        vertical-align: top;\n",
       "    }\n",
       "\n",
       "    .dataframe thead th {\n",
       "        text-align: right;\n",
       "    }\n",
       "</style>\n",
       "<table border=\"1\" class=\"dataframe\">\n",
       "  <thead>\n",
       "    <tr style=\"text-align: right;\">\n",
       "      <th></th>\n",
       "      <th>title</th>\n",
       "      <th>year</th>\n",
       "      <th>name</th>\n",
       "      <th>type</th>\n",
       "      <th>character</th>\n",
       "      <th>n</th>\n",
       "    </tr>\n",
       "  </thead>\n",
       "  <tbody>\n",
       "    <tr>\n",
       "      <th>0</th>\n",
       "      <td>Closet Monster</td>\n",
       "      <td>2015</td>\n",
       "      <td>Buffy #1</td>\n",
       "      <td>actor</td>\n",
       "      <td>Buffy 4</td>\n",
       "      <td>31.0</td>\n",
       "    </tr>\n",
       "    <tr>\n",
       "      <th>1</th>\n",
       "      <td>Suuri illusioni</td>\n",
       "      <td>1985</td>\n",
       "      <td>Homo $</td>\n",
       "      <td>actor</td>\n",
       "      <td>Guests</td>\n",
       "      <td>22.0</td>\n",
       "    </tr>\n",
       "    <tr>\n",
       "      <th>2</th>\n",
       "      <td>Battle of the Sexes</td>\n",
       "      <td>2017</td>\n",
       "      <td>$hutter</td>\n",
       "      <td>actor</td>\n",
       "      <td>Bobby Riggs Fan</td>\n",
       "      <td>10.0</td>\n",
       "    </tr>\n",
       "    <tr>\n",
       "      <th>3</th>\n",
       "      <td>Secret in Their Eyes</td>\n",
       "      <td>2015</td>\n",
       "      <td>$hutter</td>\n",
       "      <td>actor</td>\n",
       "      <td>2002 Dodger Fan</td>\n",
       "      <td>NaN</td>\n",
       "    </tr>\n",
       "    <tr>\n",
       "      <th>4</th>\n",
       "      <td>Steve Jobs</td>\n",
       "      <td>2015</td>\n",
       "      <td>$hutter</td>\n",
       "      <td>actor</td>\n",
       "      <td>1988 Opera House Patron</td>\n",
       "      <td>NaN</td>\n",
       "    </tr>\n",
       "  </tbody>\n",
       "</table>\n",
       "</div>"
      ],
      "text/plain": [
       "                  title  year      name   type                character     n\n",
       "0        Closet Monster  2015  Buffy #1  actor                  Buffy 4  31.0\n",
       "1       Suuri illusioni  1985    Homo $  actor                   Guests  22.0\n",
       "2   Battle of the Sexes  2017   $hutter  actor          Bobby Riggs Fan  10.0\n",
       "3  Secret in Their Eyes  2015   $hutter  actor          2002 Dodger Fan   NaN\n",
       "4            Steve Jobs  2015   $hutter  actor  1988 Opera House Patron   NaN"
      ]
     },
     "execution_count": 2,
     "metadata": {},
     "output_type": "execute_result"
    }
   ],
   "source": [
    "df = pd.read_csv('cast.csv')\n",
    "df.head()"
   ]
  },
  {
   "cell_type": "markdown",
   "metadata": {},
   "source": [
    "`head` and `tail` return a new pandas dataframe\n",
    "\n",
    "## Indexing the Dataframe\n",
    "\n",
    "We\n",
    "can extract certain rows from the dataframe by\n",
    "indexing."
   ]
  },
  {
   "cell_type": "code",
   "execution_count": 3,
   "metadata": {
    "attributes": {
     "classes": [],
     "id": "",
     "n": "3"
    }
   },
   "outputs": [
    {
     "data": {
      "text/plain": [
       "0    2015\n",
       "1    1985\n",
       "2    2017\n",
       "3    2015\n",
       "4    2015\n",
       "Name: year, dtype: int64"
      ]
     },
     "execution_count": 3,
     "metadata": {},
     "output_type": "execute_result"
    }
   ],
   "source": [
    "df['year'].head()"
   ]
  },
  {
   "cell_type": "markdown",
   "metadata": {},
   "source": [
    "This gives us a pandas `Series` which contains a numpy array. We can perform\n",
    "numpy operations on this e.g. math operations such as additions, subtraction,\n",
    "comparison etc."
   ]
  },
  {
   "cell_type": "code",
   "execution_count": 4,
   "metadata": {
    "attributes": {
     "classes": [],
     "id": "",
     "n": "4"
    }
   },
   "outputs": [
    {
     "data": {
      "text/plain": [
       "0    False\n",
       "1    False\n",
       "2    False\n",
       "3    False\n",
       "4    False\n",
       "Name: year, dtype: bool"
      ]
     },
     "execution_count": 4,
     "metadata": {},
     "output_type": "execute_result"
    }
   ],
   "source": [
    "(df['year'] > 2018).head()"
   ]
  },
  {
   "cell_type": "markdown",
   "metadata": {},
   "source": [
    "Indexing with an array of columns gives back a pandas dataframe containing the\n",
    "specified columns"
   ]
  },
  {
   "cell_type": "code",
   "execution_count": 5,
   "metadata": {
    "attributes": {
     "classes": [],
     "id": "",
     "n": "5"
    }
   },
   "outputs": [
    {
     "data": {
      "text/html": [
       "<div>\n",
       "<style scoped>\n",
       "    .dataframe tbody tr th:only-of-type {\n",
       "        vertical-align: middle;\n",
       "    }\n",
       "\n",
       "    .dataframe tbody tr th {\n",
       "        vertical-align: top;\n",
       "    }\n",
       "\n",
       "    .dataframe thead th {\n",
       "        text-align: right;\n",
       "    }\n",
       "</style>\n",
       "<table border=\"1\" class=\"dataframe\">\n",
       "  <thead>\n",
       "    <tr style=\"text-align: right;\">\n",
       "      <th></th>\n",
       "      <th>title</th>\n",
       "      <th>year</th>\n",
       "      <th>name</th>\n",
       "      <th>type</th>\n",
       "      <th>character</th>\n",
       "      <th>n</th>\n",
       "    </tr>\n",
       "  </thead>\n",
       "  <tbody>\n",
       "    <tr>\n",
       "      <th>0</th>\n",
       "      <td>Closet Monster</td>\n",
       "      <td>2015</td>\n",
       "      <td>Buffy #1</td>\n",
       "      <td>actor</td>\n",
       "      <td>Buffy 4</td>\n",
       "      <td>31.0</td>\n",
       "    </tr>\n",
       "    <tr>\n",
       "      <th>1</th>\n",
       "      <td>Suuri illusioni</td>\n",
       "      <td>1985</td>\n",
       "      <td>Homo $</td>\n",
       "      <td>actor</td>\n",
       "      <td>Guests</td>\n",
       "      <td>22.0</td>\n",
       "    </tr>\n",
       "    <tr>\n",
       "      <th>2</th>\n",
       "      <td>Battle of the Sexes</td>\n",
       "      <td>2017</td>\n",
       "      <td>$hutter</td>\n",
       "      <td>actor</td>\n",
       "      <td>Bobby Riggs Fan</td>\n",
       "      <td>10.0</td>\n",
       "    </tr>\n",
       "    <tr>\n",
       "      <th>3</th>\n",
       "      <td>Secret in Their Eyes</td>\n",
       "      <td>2015</td>\n",
       "      <td>$hutter</td>\n",
       "      <td>actor</td>\n",
       "      <td>2002 Dodger Fan</td>\n",
       "      <td>NaN</td>\n",
       "    </tr>\n",
       "    <tr>\n",
       "      <th>4</th>\n",
       "      <td>Steve Jobs</td>\n",
       "      <td>2015</td>\n",
       "      <td>$hutter</td>\n",
       "      <td>actor</td>\n",
       "      <td>1988 Opera House Patron</td>\n",
       "      <td>NaN</td>\n",
       "    </tr>\n",
       "  </tbody>\n",
       "</table>\n",
       "</div>"
      ],
      "text/plain": [
       "                  title  year      name   type                character     n\n",
       "0        Closet Monster  2015  Buffy #1  actor                  Buffy 4  31.0\n",
       "1       Suuri illusioni  1985    Homo $  actor                   Guests  22.0\n",
       "2   Battle of the Sexes  2017   $hutter  actor          Bobby Riggs Fan  10.0\n",
       "3  Secret in Their Eyes  2015   $hutter  actor          2002 Dodger Fan   NaN\n",
       "4            Steve Jobs  2015   $hutter  actor  1988 Opera House Patron   NaN"
      ]
     },
     "execution_count": 5,
     "metadata": {},
     "output_type": "execute_result"
    }
   ],
   "source": [
    "df.head()"
   ]
  },
  {
   "cell_type": "code",
   "execution_count": 6,
   "metadata": {
    "attributes": {
     "classes": [],
     "id": "",
     "n": "6"
    }
   },
   "outputs": [
    {
     "data": {
      "text/html": [
       "<div>\n",
       "<style scoped>\n",
       "    .dataframe tbody tr th:only-of-type {\n",
       "        vertical-align: middle;\n",
       "    }\n",
       "\n",
       "    .dataframe tbody tr th {\n",
       "        vertical-align: top;\n",
       "    }\n",
       "\n",
       "    .dataframe thead th {\n",
       "        text-align: right;\n",
       "    }\n",
       "</style>\n",
       "<table border=\"1\" class=\"dataframe\">\n",
       "  <thead>\n",
       "    <tr style=\"text-align: right;\">\n",
       "      <th></th>\n",
       "      <th>year</th>\n",
       "      <th>title</th>\n",
       "    </tr>\n",
       "  </thead>\n",
       "  <tbody>\n",
       "    <tr>\n",
       "      <th>0</th>\n",
       "      <td>2015</td>\n",
       "      <td>Closet Monster</td>\n",
       "    </tr>\n",
       "    <tr>\n",
       "      <th>1</th>\n",
       "      <td>1985</td>\n",
       "      <td>Suuri illusioni</td>\n",
       "    </tr>\n",
       "    <tr>\n",
       "      <th>2</th>\n",
       "      <td>2017</td>\n",
       "      <td>Battle of the Sexes</td>\n",
       "    </tr>\n",
       "    <tr>\n",
       "      <th>3</th>\n",
       "      <td>2015</td>\n",
       "      <td>Secret in Their Eyes</td>\n",
       "    </tr>\n",
       "    <tr>\n",
       "      <th>4</th>\n",
       "      <td>2015</td>\n",
       "      <td>Steve Jobs</td>\n",
       "    </tr>\n",
       "  </tbody>\n",
       "</table>\n",
       "</div>"
      ],
      "text/plain": [
       "   year                 title\n",
       "0  2015        Closet Monster\n",
       "1  1985       Suuri illusioni\n",
       "2  2017   Battle of the Sexes\n",
       "3  2015  Secret in Their Eyes\n",
       "4  2015            Steve Jobs"
      ]
     },
     "execution_count": 6,
     "metadata": {},
     "output_type": "execute_result"
    }
   ],
   "source": [
    "df[['year', 'title']].head()"
   ]
  },
  {
   "cell_type": "markdown",
   "metadata": {},
   "source": [
    "With Indexing, we can filter the dataframe by desired conditions. For instance,\n",
    "to view all cast that has year greater than or equal to, say, `2019`, we can\n",
    "index the year and do a `>=` operation to get a Series of Booleans. We can then\n",
    "use that Series to filter out the rows of the dataframe."
   ]
  },
  {
   "cell_type": "code",
   "execution_count": 7,
   "metadata": {
    "attributes": {
     "classes": [],
     "id": "",
     "n": "7"
    }
   },
   "outputs": [],
   "source": [
    "is_entry_year_greater_or_eq_than_2019 = df['year'] >= 2019\n",
    "\n",
    "# index the dataframe to get the rows that have year greater than or equal 2019\n",
    "cast_greater_than_or_eq_2019 = df[is_entry_year_greater_or_eq_than_2019]"
   ]
  },
  {
   "cell_type": "code",
   "execution_count": 8,
   "metadata": {
    "attributes": {
     "classes": [],
     "id": "",
     "n": "8"
    }
   },
   "outputs": [
    {
     "data": {
      "text/plain": [
       "1848"
      ]
     },
     "execution_count": 8,
     "metadata": {},
     "output_type": "execute_result"
    }
   ],
   "source": [
    "len(cast_greater_than_or_eq_2019)"
   ]
  },
  {
   "cell_type": "code",
   "execution_count": 9,
   "metadata": {
    "attributes": {
     "classes": [],
     "id": "",
     "n": "9"
    }
   },
   "outputs": [
    {
     "data": {
      "text/html": [
       "<div>\n",
       "<style scoped>\n",
       "    .dataframe tbody tr th:only-of-type {\n",
       "        vertical-align: middle;\n",
       "    }\n",
       "\n",
       "    .dataframe tbody tr th {\n",
       "        vertical-align: top;\n",
       "    }\n",
       "\n",
       "    .dataframe thead th {\n",
       "        text-align: right;\n",
       "    }\n",
       "</style>\n",
       "<table border=\"1\" class=\"dataframe\">\n",
       "  <thead>\n",
       "    <tr style=\"text-align: right;\">\n",
       "      <th></th>\n",
       "      <th>title</th>\n",
       "      <th>year</th>\n",
       "      <th>name</th>\n",
       "      <th>type</th>\n",
       "      <th>character</th>\n",
       "      <th>n</th>\n",
       "    </tr>\n",
       "  </thead>\n",
       "  <tbody>\n",
       "    <tr>\n",
       "      <th>505</th>\n",
       "      <td>Baron 3D</td>\n",
       "      <td>2019</td>\n",
       "      <td>Mohamed Aamer</td>\n",
       "      <td>actor</td>\n",
       "      <td>Adam</td>\n",
       "      <td>NaN</td>\n",
       "    </tr>\n",
       "    <tr>\n",
       "      <th>765</th>\n",
       "      <td>Blink of an Eye</td>\n",
       "      <td>2019</td>\n",
       "      <td>Justin Aaronson</td>\n",
       "      <td>actor</td>\n",
       "      <td>Security Guard 2</td>\n",
       "      <td>31.0</td>\n",
       "    </tr>\n",
       "    <tr>\n",
       "      <th>2119</th>\n",
       "      <td>Kingdom: Fall of Illandrieal</td>\n",
       "      <td>2019</td>\n",
       "      <td>Jake Abbott</td>\n",
       "      <td>actor</td>\n",
       "      <td>Carlyne</td>\n",
       "      <td>NaN</td>\n",
       "    </tr>\n",
       "    <tr>\n",
       "      <th>2466</th>\n",
       "      <td>Kingdom: Fall of Illandrieal</td>\n",
       "      <td>2019</td>\n",
       "      <td>Hamza Ripley Abdallah</td>\n",
       "      <td>actor</td>\n",
       "      <td>Gnor</td>\n",
       "      <td>NaN</td>\n",
       "    </tr>\n",
       "    <tr>\n",
       "      <th>6958</th>\n",
       "      <td>Aladdin</td>\n",
       "      <td>2019</td>\n",
       "      <td>Numan Acar</td>\n",
       "      <td>actor</td>\n",
       "      <td>Hakim</td>\n",
       "      <td>NaN</td>\n",
       "    </tr>\n",
       "  </tbody>\n",
       "</table>\n",
       "</div>"
      ],
      "text/plain": [
       "                             title  year                   name   type  \\\n",
       "505                       Baron 3D  2019          Mohamed Aamer  actor   \n",
       "765                Blink of an Eye  2019        Justin Aaronson  actor   \n",
       "2119  Kingdom: Fall of Illandrieal  2019            Jake Abbott  actor   \n",
       "2466  Kingdom: Fall of Illandrieal  2019  Hamza Ripley Abdallah  actor   \n",
       "6958                       Aladdin  2019             Numan Acar  actor   \n",
       "\n",
       "             character     n  \n",
       "505               Adam   NaN  \n",
       "765   Security Guard 2  31.0  \n",
       "2119           Carlyne   NaN  \n",
       "2466              Gnor   NaN  \n",
       "6958             Hakim   NaN  "
      ]
     },
     "execution_count": 9,
     "metadata": {},
     "output_type": "execute_result"
    }
   ],
   "source": [
    "cast_greater_than_or_eq_2019.head()"
   ]
  },
  {
   "cell_type": "code",
   "execution_count": 10,
   "metadata": {
    "attributes": {
     "classes": [],
     "id": "",
     "n": "10"
    }
   },
   "outputs": [
    {
     "data": {
      "text/html": [
       "<div>\n",
       "<style scoped>\n",
       "    .dataframe tbody tr th:only-of-type {\n",
       "        vertical-align: middle;\n",
       "    }\n",
       "\n",
       "    .dataframe tbody tr th {\n",
       "        vertical-align: top;\n",
       "    }\n",
       "\n",
       "    .dataframe thead th {\n",
       "        text-align: right;\n",
       "    }\n",
       "</style>\n",
       "<table border=\"1\" class=\"dataframe\">\n",
       "  <thead>\n",
       "    <tr style=\"text-align: right;\">\n",
       "      <th></th>\n",
       "      <th>title</th>\n",
       "      <th>year</th>\n",
       "      <th>name</th>\n",
       "      <th>type</th>\n",
       "      <th>character</th>\n",
       "      <th>n</th>\n",
       "    </tr>\n",
       "  </thead>\n",
       "  <tbody>\n",
       "    <tr>\n",
       "      <th>3774832</th>\n",
       "      <td>Prince of Peace</td>\n",
       "      <td>2019</td>\n",
       "      <td>Carmen Zabaleta</td>\n",
       "      <td>actress</td>\n",
       "      <td>Daniel's mother</td>\n",
       "      <td>NaN</td>\n",
       "    </tr>\n",
       "    <tr>\n",
       "      <th>3779187</th>\n",
       "      <td>Untitled Spider-Man: Homecoming Sequel</td>\n",
       "      <td>2019</td>\n",
       "      <td>Zendaya</td>\n",
       "      <td>actress</td>\n",
       "      <td>Michelle Jones</td>\n",
       "      <td>NaN</td>\n",
       "    </tr>\n",
       "    <tr>\n",
       "      <th>3781734</th>\n",
       "      <td>TimeWarpers</td>\n",
       "      <td>2020</td>\n",
       "      <td>Jaquelen Zilva</td>\n",
       "      <td>actress</td>\n",
       "      <td>Maria Do Santos</td>\n",
       "      <td>NaN</td>\n",
       "    </tr>\n",
       "    <tr>\n",
       "      <th>3782142</th>\n",
       "      <td>The Invisible War</td>\n",
       "      <td>2020</td>\n",
       "      <td>Cary Zincke</td>\n",
       "      <td>actress</td>\n",
       "      <td>Florence Hereford</td>\n",
       "      <td>NaN</td>\n",
       "    </tr>\n",
       "    <tr>\n",
       "      <th>3782387</th>\n",
       "      <td>Tchnienie</td>\n",
       "      <td>2019</td>\n",
       "      <td>Emilia Ziolkowska</td>\n",
       "      <td>actress</td>\n",
       "      <td>Natasha</td>\n",
       "      <td>NaN</td>\n",
       "    </tr>\n",
       "  </tbody>\n",
       "</table>\n",
       "</div>"
      ],
      "text/plain": [
       "                                          title  year               name  \\\n",
       "3774832                         Prince of Peace  2019    Carmen Zabaleta   \n",
       "3779187  Untitled Spider-Man: Homecoming Sequel  2019            Zendaya   \n",
       "3781734                             TimeWarpers  2020     Jaquelen Zilva   \n",
       "3782142                       The Invisible War  2020        Cary Zincke   \n",
       "3782387                               Tchnienie  2019  Emilia Ziolkowska   \n",
       "\n",
       "            type          character   n  \n",
       "3774832  actress    Daniel's mother NaN  \n",
       "3779187  actress     Michelle Jones NaN  \n",
       "3781734  actress    Maria Do Santos NaN  \n",
       "3782142  actress  Florence Hereford NaN  \n",
       "3782387  actress            Natasha NaN  "
      ]
     },
     "execution_count": 10,
     "metadata": {},
     "output_type": "execute_result"
    }
   ],
   "source": [
    "cast_greater_than_or_eq_2019.tail()"
   ]
  },
  {
   "cell_type": "markdown",
   "metadata": {},
   "source": [
    "## Boolean Indexing `and` and `or`\n",
    "\n",
    "Consider a scenario whereby we would like to\n",
    "use the `and` or `or` operators on a Series to do a more complex comparison. The\n",
    "raw python `and` and `or` cannot work with a Series, they work with primitive\n",
    "Booleans. To use `and` or `or` with pandas Series, pandas makes use of the\n",
    "bitwise operators `&` and `|`.\n",
    "\n",
    "For instance, let us filter our casts dataframe\n",
    "to only include cast where year is greater than or equal to 2015 and less than\n",
    "or equal to 2016."
   ]
  },
  {
   "cell_type": "code",
   "execution_count": 11,
   "metadata": {
    "attributes": {
     "classes": [],
     "id": "",
     "n": "11"
    }
   },
   "outputs": [],
   "source": [
    "is_greater_than_or_eq_2015 = df['year'] >= 2015\n",
    "is_less_than_or_eq_2016 = df['year'] <= 2016"
   ]
  },
  {
   "cell_type": "code",
   "execution_count": 12,
   "metadata": {
    "attributes": {
     "classes": [],
     "id": "",
     "n": "12"
    }
   },
   "outputs": [],
   "source": [
    "between_2015_and_2016 = df[is_greater_than_or_eq_2015 & is_less_than_or_eq_2016]\n",
    "\n",
    "# for or we can use the bitwise or |"
   ]
  },
  {
   "cell_type": "code",
   "execution_count": 13,
   "metadata": {
    "attributes": {
     "classes": [],
     "id": "",
     "n": "13"
    }
   },
   "outputs": [
    {
     "data": {
      "text/plain": [
       "311606"
      ]
     },
     "execution_count": 13,
     "metadata": {},
     "output_type": "execute_result"
    }
   ],
   "source": [
    "len(between_2015_and_2016)"
   ]
  },
  {
   "cell_type": "code",
   "execution_count": 14,
   "metadata": {
    "attributes": {
     "classes": [],
     "id": "",
     "n": "14"
    }
   },
   "outputs": [
    {
     "data": {
      "text/html": [
       "<div>\n",
       "<style scoped>\n",
       "    .dataframe tbody tr th:only-of-type {\n",
       "        vertical-align: middle;\n",
       "    }\n",
       "\n",
       "    .dataframe tbody tr th {\n",
       "        vertical-align: top;\n",
       "    }\n",
       "\n",
       "    .dataframe thead th {\n",
       "        text-align: right;\n",
       "    }\n",
       "</style>\n",
       "<table border=\"1\" class=\"dataframe\">\n",
       "  <thead>\n",
       "    <tr style=\"text-align: right;\">\n",
       "      <th></th>\n",
       "      <th>title</th>\n",
       "      <th>year</th>\n",
       "      <th>name</th>\n",
       "      <th>type</th>\n",
       "      <th>character</th>\n",
       "      <th>n</th>\n",
       "    </tr>\n",
       "  </thead>\n",
       "  <tbody>\n",
       "    <tr>\n",
       "      <th>0</th>\n",
       "      <td>Closet Monster</td>\n",
       "      <td>2015</td>\n",
       "      <td>Buffy #1</td>\n",
       "      <td>actor</td>\n",
       "      <td>Buffy 4</td>\n",
       "      <td>31.0</td>\n",
       "    </tr>\n",
       "    <tr>\n",
       "      <th>3</th>\n",
       "      <td>Secret in Their Eyes</td>\n",
       "      <td>2015</td>\n",
       "      <td>$hutter</td>\n",
       "      <td>actor</td>\n",
       "      <td>2002 Dodger Fan</td>\n",
       "      <td>NaN</td>\n",
       "    </tr>\n",
       "    <tr>\n",
       "      <th>4</th>\n",
       "      <td>Steve Jobs</td>\n",
       "      <td>2015</td>\n",
       "      <td>$hutter</td>\n",
       "      <td>actor</td>\n",
       "      <td>1988 Opera House Patron</td>\n",
       "      <td>NaN</td>\n",
       "    </tr>\n",
       "    <tr>\n",
       "      <th>5</th>\n",
       "      <td>Straight Outta Compton</td>\n",
       "      <td>2015</td>\n",
       "      <td>$hutter</td>\n",
       "      <td>actor</td>\n",
       "      <td>Club Patron</td>\n",
       "      <td>NaN</td>\n",
       "    </tr>\n",
       "    <tr>\n",
       "      <th>6</th>\n",
       "      <td>Straight Outta Compton</td>\n",
       "      <td>2015</td>\n",
       "      <td>$hutter</td>\n",
       "      <td>actor</td>\n",
       "      <td>Dopeman</td>\n",
       "      <td>NaN</td>\n",
       "    </tr>\n",
       "  </tbody>\n",
       "</table>\n",
       "</div>"
      ],
      "text/plain": [
       "                    title  year      name   type                character  \\\n",
       "0          Closet Monster  2015  Buffy #1  actor                  Buffy 4   \n",
       "3    Secret in Their Eyes  2015   $hutter  actor          2002 Dodger Fan   \n",
       "4              Steve Jobs  2015   $hutter  actor  1988 Opera House Patron   \n",
       "5  Straight Outta Compton  2015   $hutter  actor              Club Patron   \n",
       "6  Straight Outta Compton  2015   $hutter  actor                  Dopeman   \n",
       "\n",
       "      n  \n",
       "0  31.0  \n",
       "3   NaN  \n",
       "4   NaN  \n",
       "5   NaN  \n",
       "6   NaN  "
      ]
     },
     "execution_count": 14,
     "metadata": {},
     "output_type": "execute_result"
    }
   ],
   "source": [
    "between_2015_and_2016.head()"
   ]
  },
  {
   "cell_type": "code",
   "execution_count": 15,
   "metadata": {
    "attributes": {
     "classes": [],
     "id": "",
     "n": "15"
    }
   },
   "outputs": [
    {
     "data": {
      "text/html": [
       "<div>\n",
       "<style scoped>\n",
       "    .dataframe tbody tr th:only-of-type {\n",
       "        vertical-align: middle;\n",
       "    }\n",
       "\n",
       "    .dataframe tbody tr th {\n",
       "        vertical-align: top;\n",
       "    }\n",
       "\n",
       "    .dataframe thead th {\n",
       "        text-align: right;\n",
       "    }\n",
       "</style>\n",
       "<table border=\"1\" class=\"dataframe\">\n",
       "  <thead>\n",
       "    <tr style=\"text-align: right;\">\n",
       "      <th></th>\n",
       "      <th>title</th>\n",
       "      <th>year</th>\n",
       "      <th>name</th>\n",
       "      <th>type</th>\n",
       "      <th>character</th>\n",
       "      <th>n</th>\n",
       "    </tr>\n",
       "  </thead>\n",
       "  <tbody>\n",
       "    <tr>\n",
       "      <th>3786076</th>\n",
       "      <td>Kvinner i for store herreskjorter</td>\n",
       "      <td>2015</td>\n",
       "      <td>Gunnhild ?yehaug</td>\n",
       "      <td>actress</td>\n",
       "      <td>Fortellerstemme</td>\n",
       "      <td>29.0</td>\n",
       "    </tr>\n",
       "    <tr>\n",
       "      <th>3786079</th>\n",
       "      <td>Kvinner i for store herreskjorter</td>\n",
       "      <td>2015</td>\n",
       "      <td>Ingunn Beate ?yen</td>\n",
       "      <td>actress</td>\n",
       "      <td>Jordmor</td>\n",
       "      <td>16.0</td>\n",
       "    </tr>\n",
       "    <tr>\n",
       "      <th>3786108</th>\n",
       "      <td>Canim kardesim benim</td>\n",
       "      <td>2016</td>\n",
       "      <td>Sebnem ?naldi</td>\n",
       "      <td>actress</td>\n",
       "      <td>Lale</td>\n",
       "      <td>NaN</td>\n",
       "    </tr>\n",
       "    <tr>\n",
       "      <th>3786133</th>\n",
       "      <td>Iftarlik Gazoz</td>\n",
       "      <td>2016</td>\n",
       "      <td>Karya ?nsal</td>\n",
       "      <td>actress</td>\n",
       "      <td>Misafir Bebek</td>\n",
       "      <td>18.0</td>\n",
       "    </tr>\n",
       "    <tr>\n",
       "      <th>3786148</th>\n",
       "      <td>K (II)</td>\n",
       "      <td>2015</td>\n",
       "      <td>?rchaihu</td>\n",
       "      <td>actress</td>\n",
       "      <td>Castle Inn Singer 2</td>\n",
       "      <td>NaN</td>\n",
       "    </tr>\n",
       "  </tbody>\n",
       "</table>\n",
       "</div>"
      ],
      "text/plain": [
       "                                     title  year               name     type  \\\n",
       "3786076  Kvinner i for store herreskjorter  2015   Gunnhild ?yehaug  actress   \n",
       "3786079  Kvinner i for store herreskjorter  2015  Ingunn Beate ?yen  actress   \n",
       "3786108               Canim kardesim benim  2016      Sebnem ?naldi  actress   \n",
       "3786133                     Iftarlik Gazoz  2016        Karya ?nsal  actress   \n",
       "3786148                             K (II)  2015           ?rchaihu  actress   \n",
       "\n",
       "                   character     n  \n",
       "3786076      Fortellerstemme  29.0  \n",
       "3786079              Jordmor  16.0  \n",
       "3786108                 Lale   NaN  \n",
       "3786133        Misafir Bebek  18.0  \n",
       "3786148  Castle Inn Singer 2   NaN  "
      ]
     },
     "execution_count": 15,
     "metadata": {},
     "output_type": "execute_result"
    }
   ],
   "source": [
    "between_2015_and_2016.tail()"
   ]
  },
  {
   "cell_type": "markdown",
   "metadata": {},
   "source": [
    "We can sort the dataframe by columns"
   ]
  },
  {
   "cell_type": "code",
   "execution_count": 16,
   "metadata": {
    "attributes": {
     "classes": [],
     "id": "",
     "n": "16"
    }
   },
   "outputs": [
    {
     "data": {
      "text/html": [
       "<div>\n",
       "<style scoped>\n",
       "    .dataframe tbody tr th:only-of-type {\n",
       "        vertical-align: middle;\n",
       "    }\n",
       "\n",
       "    .dataframe tbody tr th {\n",
       "        vertical-align: top;\n",
       "    }\n",
       "\n",
       "    .dataframe thead th {\n",
       "        text-align: right;\n",
       "    }\n",
       "</style>\n",
       "<table border=\"1\" class=\"dataframe\">\n",
       "  <thead>\n",
       "    <tr style=\"text-align: right;\">\n",
       "      <th></th>\n",
       "      <th>title</th>\n",
       "      <th>year</th>\n",
       "      <th>name</th>\n",
       "      <th>type</th>\n",
       "      <th>character</th>\n",
       "      <th>n</th>\n",
       "    </tr>\n",
       "  </thead>\n",
       "  <tbody>\n",
       "    <tr>\n",
       "      <th>3</th>\n",
       "      <td>Secret in Their Eyes</td>\n",
       "      <td>2015</td>\n",
       "      <td>$hutter</td>\n",
       "      <td>actor</td>\n",
       "      <td>2002 Dodger Fan</td>\n",
       "      <td>NaN</td>\n",
       "    </tr>\n",
       "    <tr>\n",
       "      <th>4</th>\n",
       "      <td>Steve Jobs</td>\n",
       "      <td>2015</td>\n",
       "      <td>$hutter</td>\n",
       "      <td>actor</td>\n",
       "      <td>1988 Opera House Patron</td>\n",
       "      <td>NaN</td>\n",
       "    </tr>\n",
       "    <tr>\n",
       "      <th>5</th>\n",
       "      <td>Straight Outta Compton</td>\n",
       "      <td>2015</td>\n",
       "      <td>$hutter</td>\n",
       "      <td>actor</td>\n",
       "      <td>Club Patron</td>\n",
       "      <td>NaN</td>\n",
       "    </tr>\n",
       "    <tr>\n",
       "      <th>6</th>\n",
       "      <td>Straight Outta Compton</td>\n",
       "      <td>2015</td>\n",
       "      <td>$hutter</td>\n",
       "      <td>actor</td>\n",
       "      <td>Dopeman</td>\n",
       "      <td>NaN</td>\n",
       "    </tr>\n",
       "    <tr>\n",
       "      <th>1156809</th>\n",
       "      <td>Isai</td>\n",
       "      <td>2015</td>\n",
       "      <td>'Ganja' Karuppu</td>\n",
       "      <td>actor</td>\n",
       "      <td>Karuppu</td>\n",
       "      <td>5.0</td>\n",
       "    </tr>\n",
       "  </tbody>\n",
       "</table>\n",
       "</div>"
      ],
      "text/plain": [
       "                          title  year             name   type  \\\n",
       "3          Secret in Their Eyes  2015          $hutter  actor   \n",
       "4                    Steve Jobs  2015          $hutter  actor   \n",
       "5        Straight Outta Compton  2015          $hutter  actor   \n",
       "6        Straight Outta Compton  2015          $hutter  actor   \n",
       "1156809                    Isai  2015  'Ganja' Karuppu  actor   \n",
       "\n",
       "                       character    n  \n",
       "3                2002 Dodger Fan  NaN  \n",
       "4        1988 Opera House Patron  NaN  \n",
       "5                    Club Patron  NaN  \n",
       "6                        Dopeman  NaN  \n",
       "1156809                  Karuppu  5.0  "
      ]
     },
     "execution_count": 16,
     "metadata": {},
     "output_type": "execute_result"
    }
   ],
   "source": [
    "between_2015_and_2016.sort_values(['year', 'name']).head()\n",
    "\n",
    "# We can use df.sort_value('column_name') to sort only by 'column_name'"
   ]
  },
  {
   "cell_type": "markdown",
   "metadata": {},
   "source": [
    "We can set a desirable value to all null years in the dataframe"
   ]
  },
  {
   "cell_type": "code",
   "execution_count": 17,
   "metadata": {
    "attributes": {
     "classes": [],
     "id": "",
     "n": "29"
    }
   },
   "outputs": [
    {
     "data": {
      "text/html": [
       "<div>\n",
       "<style scoped>\n",
       "    .dataframe tbody tr th:only-of-type {\n",
       "        vertical-align: middle;\n",
       "    }\n",
       "\n",
       "    .dataframe tbody tr th {\n",
       "        vertical-align: top;\n",
       "    }\n",
       "\n",
       "    .dataframe thead th {\n",
       "        text-align: right;\n",
       "    }\n",
       "</style>\n",
       "<table border=\"1\" class=\"dataframe\">\n",
       "  <thead>\n",
       "    <tr style=\"text-align: right;\">\n",
       "      <th></th>\n",
       "      <th>title</th>\n",
       "      <th>year</th>\n",
       "      <th>name</th>\n",
       "      <th>type</th>\n",
       "      <th>character</th>\n",
       "      <th>n</th>\n",
       "    </tr>\n",
       "  </thead>\n",
       "  <tbody>\n",
       "    <tr>\n",
       "      <th>0</th>\n",
       "      <td>Closet Monster</td>\n",
       "      <td>2015</td>\n",
       "      <td>Buffy #1</td>\n",
       "      <td>actor</td>\n",
       "      <td>Buffy 4</td>\n",
       "      <td>31.0</td>\n",
       "    </tr>\n",
       "    <tr>\n",
       "      <th>1</th>\n",
       "      <td>Suuri illusioni</td>\n",
       "      <td>1985</td>\n",
       "      <td>Homo $</td>\n",
       "      <td>actor</td>\n",
       "      <td>Guests</td>\n",
       "      <td>22.0</td>\n",
       "    </tr>\n",
       "    <tr>\n",
       "      <th>2</th>\n",
       "      <td>Battle of the Sexes</td>\n",
       "      <td>2017</td>\n",
       "      <td>$hutter</td>\n",
       "      <td>actor</td>\n",
       "      <td>Bobby Riggs Fan</td>\n",
       "      <td>10.0</td>\n",
       "    </tr>\n",
       "    <tr>\n",
       "      <th>3</th>\n",
       "      <td>Secret in Their Eyes</td>\n",
       "      <td>2015</td>\n",
       "      <td>$hutter</td>\n",
       "      <td>actor</td>\n",
       "      <td>2002 Dodger Fan</td>\n",
       "      <td>NaN</td>\n",
       "    </tr>\n",
       "    <tr>\n",
       "      <th>4</th>\n",
       "      <td>Steve Jobs</td>\n",
       "      <td>2015</td>\n",
       "      <td>$hutter</td>\n",
       "      <td>actor</td>\n",
       "      <td>1988 Opera House Patron</td>\n",
       "      <td>NaN</td>\n",
       "    </tr>\n",
       "  </tbody>\n",
       "</table>\n",
       "</div>"
      ],
      "text/plain": [
       "                  title  year      name   type                character     n\n",
       "0        Closet Monster  2015  Buffy #1  actor                  Buffy 4  31.0\n",
       "1       Suuri illusioni  1985    Homo $  actor                   Guests  22.0\n",
       "2   Battle of the Sexes  2017   $hutter  actor          Bobby Riggs Fan  10.0\n",
       "3  Secret in Their Eyes  2015   $hutter  actor          2002 Dodger Fan   NaN\n",
       "4            Steve Jobs  2015   $hutter  actor  1988 Opera House Patron   NaN"
      ]
     },
     "execution_count": 17,
     "metadata": {},
     "output_type": "execute_result"
    }
   ],
   "source": [
    "is_null_year = df['year'].isnull()\n",
    "df.loc[is_null_year, 'year'] = 1900\n",
    "df.head()"
   ]
  },
  {
   "cell_type": "markdown",
   "metadata": {},
   "source": [
    "## String Methods on a Dataframe\n",
    "\n",
    "Sometimes we may not want to do only\n",
    "comparison checks when filtering dataframes. Sometimes we want string operations\n",
    "like `startswith`, `len` etc. on a pandas Series i.e. column. We can make use of\n",
    "the `str` namescape in order to access `str` methods.\n",
    "\n",
    "The catch here is that\n",
    "these `str` accessor can only be used with columns that contain String values.\n",
    "Using `.str` on a non string column will cause an Attribute Error.\n",
    "\n",
    "We can use\n",
    "`.astype('str')` on a Dataframe or a Series."
   ]
  },
  {
   "cell_type": "code",
   "execution_count": 18,
   "metadata": {
    "attributes": {
     "classes": [],
     "id": "",
     "n": "42"
    }
   },
   "outputs": [
    {
     "data": {
      "text/plain": [
       "0           True\n",
       "1          False\n",
       "2           True\n",
       "3           True\n",
       "4           True\n",
       "5           True\n",
       "6           True\n",
       "7           True\n",
       "8           True\n",
       "9           True\n",
       "10          True\n",
       "11          True\n",
       "12         False\n",
       "13          True\n",
       "14          True\n",
       "15          True\n",
       "16          True\n",
       "17          True\n",
       "18          True\n",
       "19         False\n",
       "20         False\n",
       "21          True\n",
       "22          True\n",
       "23          True\n",
       "24          True\n",
       "25         False\n",
       "26         False\n",
       "27          True\n",
       "28         False\n",
       "29          True\n",
       "           ...  \n",
       "3786146     True\n",
       "3786147     True\n",
       "3786148     True\n",
       "3786149     True\n",
       "3786150     True\n",
       "3786151     True\n",
       "3786152     True\n",
       "3786153    False\n",
       "3786154    False\n",
       "3786155     True\n",
       "3786156     True\n",
       "3786157     True\n",
       "3786158     True\n",
       "3786159     True\n",
       "3786160     True\n",
       "3786161    False\n",
       "3786162    False\n",
       "3786163     True\n",
       "3786164     True\n",
       "3786165    False\n",
       "3786166     True\n",
       "3786167     True\n",
       "3786168     True\n",
       "3786169     True\n",
       "3786170    False\n",
       "3786171    False\n",
       "3786172     True\n",
       "3786173    False\n",
       "3786174     True\n",
       "3786175    False\n",
       "Name: year, Length: 3786176, dtype: bool"
      ]
     },
     "execution_count": 18,
     "metadata": {},
     "output_type": "execute_result"
    }
   ],
   "source": [
    "df['year'].astype('str').str.startswith('20')"
   ]
  },
  {
   "cell_type": "markdown",
   "metadata": {},
   "source": [
    "## Finding Frequecies in Data\n",
    "\n",
    "We are sometimes interested in knowing the number\n",
    "of occurences of an entry in a column of data. We can use `value_counts` to\n",
    "achieve that."
   ]
  },
  {
   "cell_type": "code",
   "execution_count": 19,
   "metadata": {
    "attributes": {
     "classes": [],
     "id": "",
     "n": "20"
    }
   },
   "outputs": [
    {
     "data": {
      "text/plain": [
       "2017    159440\n",
       "2016    159132\n",
       "2015    152474\n",
       "2014    151007\n",
       "2013    142421\n",
       "2012    135950\n",
       "2011    127658\n",
       "2009    118709\n",
       "2010    115119\n",
       "2008    100194\n",
       "2007     90309\n",
       "2006     86009\n",
       "2005     75431\n",
       "2004     64604\n",
       "2003     57891\n",
       "2002     55287\n",
       "2001     53698\n",
       "2018     51304\n",
       "2000     51277\n",
       "1999     50137\n",
       "1998     45026\n",
       "1997     43865\n",
       "1996     39453\n",
       "1995     37861\n",
       "1989     36436\n",
       "1994     36320\n",
       "1988     36011\n",
       "1990     34714\n",
       "1987     34634\n",
       "1992     34005\n",
       "         ...  \n",
       "1929      7729\n",
       "1927      7390\n",
       "1925      7360\n",
       "1928      7322\n",
       "1926      7047\n",
       "1922      6968\n",
       "1921      6911\n",
       "1924      6853\n",
       "1923      6629\n",
       "1915      5604\n",
       "1914      3444\n",
       "2019      1578\n",
       "1913       975\n",
       "1912       407\n",
       "2020       190\n",
       "1911       184\n",
       "1910        68\n",
       "1908        42\n",
       "2021        35\n",
       "1906        17\n",
       "2022        16\n",
       "2024        15\n",
       "2025         9\n",
       "1907         5\n",
       "1909         3\n",
       "1894         3\n",
       "2115         3\n",
       "2023         2\n",
       "1900         2\n",
       "1905         1\n",
       "Name: year, Length: 124, dtype: int64"
      ]
     },
     "execution_count": 19,
     "metadata": {},
     "output_type": "execute_result"
    }
   ],
   "source": [
    "df['year'].value_counts()"
   ]
  },
  {
   "cell_type": "markdown",
   "metadata": {},
   "source": [
    "We ge a pandas Series, sorted in a descending order, from the above operation.\n",
    "We could even plot the results for;"
   ]
  },
  {
   "cell_type": "code",
   "execution_count": 21,
   "metadata": {},
   "outputs": [
    {
     "data": {
      "text/plain": [
       "<matplotlib.axes._subplots.AxesSubplot at 0x116344940>"
      ]
     },
     "execution_count": 21,
     "metadata": {},
     "output_type": "execute_result"
    },
    {
     "data": {
      "image/png": "[encoded data removed]",
      "text/plain": [
       "<Figure size 432x288 with 1 Axes>"
      ]
     },
     "metadata": {
      "needs_background": "light"
     },
     "output_type": "display_data"
    }
   ],
   "source": [
    "df['year'].value_counts().plot()"
   ]
  },
  {
   "cell_type": "code",
   "execution_count": null,
   "metadata": {},
   "outputs": [],
   "source": []
  }
 ],
 "metadata": {
  "kernelspec": {
   "display_name": "Python 3",
   "language": "python",
   "name": "python3"
  },
  "language_info": {
   "codemirror_mode": {
    "name": "ipython",
    "version": 3
   },
   "file_extension": ".py",
   "mimetype": "text/x-python",
   "name": "python",
   "nbconvert_exporter": "python",
   "pygments_lexer": "ipython3",
   "version": "3.7.1"
  }
 },
 "nbformat": 4,
 "nbformat_minor": 2
}
