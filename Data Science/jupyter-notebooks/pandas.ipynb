{
 "cells": [
  {
   "cell_type": "code",
   "execution_count": 1,
   "metadata": {
    "attributes": {
     "classes": [],
     "id": "",
     "n": "1"
    }
   },
   "outputs": [],
   "source": [
    "import pandas as pd"
   ]
  },
  {
   "cell_type": "markdown",
   "metadata": {},
   "source": [
    "## Checking out the data\n",
    "\n",
    "We can use `head` to have a peek at the data. We can\n",
    "specify the number of rows we desire."
   ]
  },
  {
   "cell_type": "code",
   "execution_count": 2,
   "metadata": {
    "attributes": {
     "classes": [],
     "id": "",
     "n": "2"
    }
   },
   "outputs": [
    {
     "data": {
      "text/html": [
       "<div>\n",
       "<style scoped>\n",
       "    .dataframe tbody tr th:only-of-type {\n",
       "        vertical-align: middle;\n",
       "    }\n",
       "\n",
       "    .dataframe tbody tr th {\n",
       "        vertical-align: top;\n",
       "    }\n",
       "\n",
       "    .dataframe thead th {\n",
       "        text-align: right;\n",
       "    }\n",
       "</style>\n",
       "<table border=\"1\" class=\"dataframe\">\n",
       "  <thead>\n",
       "    <tr style=\"text-align: right;\">\n",
       "      <th></th>\n",
       "      <th>title</th>\n",
       "      <th>year</th>\n",
       "      <th>name</th>\n",
       "      <th>type</th>\n",
       "      <th>character</th>\n",
       "      <th>n</th>\n",
       "    </tr>\n",
       "  </thead>\n",
       "  <tbody>\n",
       "    <tr>\n",
       "      <th>0</th>\n",
       "      <td>Closet Monster</td>\n",
       "      <td>2015</td>\n",
       "      <td>Buffy #1</td>\n",
       "      <td>actor</td>\n",
       "      <td>Buffy 4</td>\n",
       "      <td>31.0</td>\n",
       "    </tr>\n",
       "    <tr>\n",
       "      <th>1</th>\n",
       "      <td>Suuri illusioni</td>\n",
       "      <td>1985</td>\n",
       "      <td>Homo $</td>\n",
       "      <td>actor</td>\n",
       "      <td>Guests</td>\n",
       "      <td>22.0</td>\n",
       "    </tr>\n",
       "    <tr>\n",
       "      <th>2</th>\n",
       "      <td>Battle of the Sexes</td>\n",
       "      <td>2017</td>\n",
       "      <td>$hutter</td>\n",
       "      <td>actor</td>\n",
       "      <td>Bobby Riggs Fan</td>\n",
       "      <td>10.0</td>\n",
       "    </tr>\n",
       "    <tr>\n",
       "      <th>3</th>\n",
       "      <td>Secret in Their Eyes</td>\n",
       "      <td>2015</td>\n",
       "      <td>$hutter</td>\n",
       "      <td>actor</td>\n",
       "      <td>2002 Dodger Fan</td>\n",
       "      <td>NaN</td>\n",
       "    </tr>\n",
       "    <tr>\n",
       "      <th>4</th>\n",
       "      <td>Steve Jobs</td>\n",
       "      <td>2015</td>\n",
       "      <td>$hutter</td>\n",
       "      <td>actor</td>\n",
       "      <td>1988 Opera House Patron</td>\n",
       "      <td>NaN</td>\n",
       "    </tr>\n",
       "  </tbody>\n",
       "</table>\n",
       "</div>"
      ],
      "text/plain": [
       "                  title  year      name   type                character     n\n",
       "0        Closet Monster  2015  Buffy #1  actor                  Buffy 4  31.0\n",
       "1       Suuri illusioni  1985    Homo $  actor                   Guests  22.0\n",
       "2   Battle of the Sexes  2017   $hutter  actor          Bobby Riggs Fan  10.0\n",
       "3  Secret in Their Eyes  2015   $hutter  actor          2002 Dodger Fan   NaN\n",
       "4            Steve Jobs  2015   $hutter  actor  1988 Opera House Patron   NaN"
      ]
     },
     "execution_count": 2,
     "metadata": {},
     "output_type": "execute_result"
    }
   ],
   "source": [
    "df = pd.read_csv('cast.csv')\n",
    "df.head()"
   ]
  },
  {
   "cell_type": "markdown",
   "metadata": {},
   "source": [
    "`head` and `tail` return a new pandas dataframe\n",
    "\n",
    "## Indexing the Dataframe\n",
    "\n",
    "We\n",
    "can extract certain rows from the dataframe by\n",
    "indexing."
   ]
  },
  {
   "cell_type": "code",
   "execution_count": 3,
   "metadata": {
    "attributes": {
     "classes": [],
     "id": "",
     "n": "3"
    }
   },
   "outputs": [
    {
     "data": {
      "text/plain": [
       "0    2015\n",
       "1    1985\n",
       "2    2017\n",
       "3    2015\n",
       "4    2015\n",
       "Name: year, dtype: int64"
      ]
     },
     "execution_count": 3,
     "metadata": {},
     "output_type": "execute_result"
    }
   ],
   "source": [
    "df['year'].head()"
   ]
  },
  {
   "cell_type": "markdown",
   "metadata": {},
   "source": [
    "This gives us a pandas `Series` which contains a numpy array. We can perform\n",
    "numpy operations on this e.g. math operations such as additions, subtraction,\n",
    "comparison etc."
   ]
  },
  {
   "cell_type": "code",
   "execution_count": 4,
   "metadata": {
    "attributes": {
     "classes": [],
     "id": "",
     "n": "4"
    }
   },
   "outputs": [
    {
     "data": {
      "text/plain": [
       "0    False\n",
       "1    False\n",
       "2    False\n",
       "3    False\n",
       "4    False\n",
       "Name: year, dtype: bool"
      ]
     },
     "execution_count": 4,
     "metadata": {},
     "output_type": "execute_result"
    }
   ],
   "source": [
    "(df['year'] > 2018).head()"
   ]
  },
  {
   "cell_type": "markdown",
   "metadata": {},
   "source": [
    "Indexing with an array of columns gives back a pandas dataframe containing the\n",
    "specified columns"
   ]
  },
  {
   "cell_type": "code",
   "execution_count": 5,
   "metadata": {
    "attributes": {
     "classes": [],
     "id": "",
     "n": "5"
    }
   },
   "outputs": [
    {
     "data": {
      "text/html": [
       "<div>\n",
       "<style scoped>\n",
       "    .dataframe tbody tr th:only-of-type {\n",
       "        vertical-align: middle;\n",
       "    }\n",
       "\n",
       "    .dataframe tbody tr th {\n",
       "        vertical-align: top;\n",
       "    }\n",
       "\n",
       "    .dataframe thead th {\n",
       "        text-align: right;\n",
       "    }\n",
       "</style>\n",
       "<table border=\"1\" class=\"dataframe\">\n",
       "  <thead>\n",
       "    <tr style=\"text-align: right;\">\n",
       "      <th></th>\n",
       "      <th>title</th>\n",
       "      <th>year</th>\n",
       "      <th>name</th>\n",
       "      <th>type</th>\n",
       "      <th>character</th>\n",
       "      <th>n</th>\n",
       "    </tr>\n",
       "  </thead>\n",
       "  <tbody>\n",
       "    <tr>\n",
       "      <th>0</th>\n",
       "      <td>Closet Monster</td>\n",
       "      <td>2015</td>\n",
       "      <td>Buffy #1</td>\n",
       "      <td>actor</td>\n",
       "      <td>Buffy 4</td>\n",
       "      <td>31.0</td>\n",
       "    </tr>\n",
       "    <tr>\n",
       "      <th>1</th>\n",
       "      <td>Suuri illusioni</td>\n",
       "      <td>1985</td>\n",
       "      <td>Homo $</td>\n",
       "      <td>actor</td>\n",
       "      <td>Guests</td>\n",
       "      <td>22.0</td>\n",
       "    </tr>\n",
       "    <tr>\n",
       "      <th>2</th>\n",
       "      <td>Battle of the Sexes</td>\n",
       "      <td>2017</td>\n",
       "      <td>$hutter</td>\n",
       "      <td>actor</td>\n",
       "      <td>Bobby Riggs Fan</td>\n",
       "      <td>10.0</td>\n",
       "    </tr>\n",
       "    <tr>\n",
       "      <th>3</th>\n",
       "      <td>Secret in Their Eyes</td>\n",
       "      <td>2015</td>\n",
       "      <td>$hutter</td>\n",
       "      <td>actor</td>\n",
       "      <td>2002 Dodger Fan</td>\n",
       "      <td>NaN</td>\n",
       "    </tr>\n",
       "    <tr>\n",
       "      <th>4</th>\n",
       "      <td>Steve Jobs</td>\n",
       "      <td>2015</td>\n",
       "      <td>$hutter</td>\n",
       "      <td>actor</td>\n",
       "      <td>1988 Opera House Patron</td>\n",
       "      <td>NaN</td>\n",
       "    </tr>\n",
       "  </tbody>\n",
       "</table>\n",
       "</div>"
      ],
      "text/plain": [
       "                  title  year      name   type                character     n\n",
       "0        Closet Monster  2015  Buffy #1  actor                  Buffy 4  31.0\n",
       "1       Suuri illusioni  1985    Homo $  actor                   Guests  22.0\n",
       "2   Battle of the Sexes  2017   $hutter  actor          Bobby Riggs Fan  10.0\n",
       "3  Secret in Their Eyes  2015   $hutter  actor          2002 Dodger Fan   NaN\n",
       "4            Steve Jobs  2015   $hutter  actor  1988 Opera House Patron   NaN"
      ]
     },
     "execution_count": 5,
     "metadata": {},
     "output_type": "execute_result"
    }
   ],
   "source": [
    "df.head()"
   ]
  },
  {
   "cell_type": "code",
   "execution_count": 6,
   "metadata": {
    "attributes": {
     "classes": [],
     "id": "",
     "n": "6"
    }
   },
   "outputs": [
    {
     "data": {
      "text/html": [
       "<div>\n",
       "<style scoped>\n",
       "    .dataframe tbody tr th:only-of-type {\n",
       "        vertical-align: middle;\n",
       "    }\n",
       "\n",
       "    .dataframe tbody tr th {\n",
       "        vertical-align: top;\n",
       "    }\n",
       "\n",
       "    .dataframe thead th {\n",
       "        text-align: right;\n",
       "    }\n",
       "</style>\n",
       "<table border=\"1\" class=\"dataframe\">\n",
       "  <thead>\n",
       "    <tr style=\"text-align: right;\">\n",
       "      <th></th>\n",
       "      <th>year</th>\n",
       "      <th>title</th>\n",
       "    </tr>\n",
       "  </thead>\n",
       "  <tbody>\n",
       "    <tr>\n",
       "      <th>0</th>\n",
       "      <td>2015</td>\n",
       "      <td>Closet Monster</td>\n",
       "    </tr>\n",
       "    <tr>\n",
       "      <th>1</th>\n",
       "      <td>1985</td>\n",
       "      <td>Suuri illusioni</td>\n",
       "    </tr>\n",
       "    <tr>\n",
       "      <th>2</th>\n",
       "      <td>2017</td>\n",
       "      <td>Battle of the Sexes</td>\n",
       "    </tr>\n",
       "    <tr>\n",
       "      <th>3</th>\n",
       "      <td>2015</td>\n",
       "      <td>Secret in Their Eyes</td>\n",
       "    </tr>\n",
       "    <tr>\n",
       "      <th>4</th>\n",
       "      <td>2015</td>\n",
       "      <td>Steve Jobs</td>\n",
       "    </tr>\n",
       "  </tbody>\n",
       "</table>\n",
       "</div>"
      ],
      "text/plain": [
       "   year                 title\n",
       "0  2015        Closet Monster\n",
       "1  1985       Suuri illusioni\n",
       "2  2017   Battle of the Sexes\n",
       "3  2015  Secret in Their Eyes\n",
       "4  2015            Steve Jobs"
      ]
     },
     "execution_count": 6,
     "metadata": {},
     "output_type": "execute_result"
    }
   ],
   "source": [
    "df[['year', 'title']].head()"
   ]
  },
  {
   "cell_type": "markdown",
   "metadata": {},
   "source": [
    "With Indexing, we can filter the dataframe by desired conditions. For instance,\n",
    "to view all cast that has year greater than or equal to, say, `2019`, we can\n",
    "index the year and do a `>=` operation to get a Series of Booleans. We can then\n",
    "use that Series to filter out the rows of the dataframe."
   ]
  },
  {
   "cell_type": "code",
   "execution_count": 7,
   "metadata": {
    "attributes": {
     "classes": [],
     "id": "",
     "n": "7"
    }
   },
   "outputs": [],
   "source": [
    "is_entry_year_greater_or_eq_than_2019 = df['year'] >= 2019\n",
    "\n",
    "# index the dataframe to get the rows that have year greater than or equal 2019\n",
    "cast_greater_than_or_eq_2019 = df[is_entry_year_greater_or_eq_than_2019]"
   ]
  },
  {
   "cell_type": "code",
   "execution_count": 8,
   "metadata": {
    "attributes": {
     "classes": [],
     "id": "",
     "n": "8"
    }
   },
   "outputs": [
    {
     "data": {
      "text/plain": [
       "1848"
      ]
     },
     "execution_count": 8,
     "metadata": {},
     "output_type": "execute_result"
    }
   ],
   "source": [
    "len(cast_greater_than_or_eq_2019)"
   ]
  },
  {
   "cell_type": "code",
   "execution_count": 9,
   "metadata": {
    "attributes": {
     "classes": [],
     "id": "",
     "n": "9"
    }
   },
   "outputs": [
    {
     "data": {
      "text/html": [
       "<div>\n",
       "<style scoped>\n",
       "    .dataframe tbody tr th:only-of-type {\n",
       "        vertical-align: middle;\n",
       "    }\n",
       "\n",
       "    .dataframe tbody tr th {\n",
       "        vertical-align: top;\n",
       "    }\n",
       "\n",
       "    .dataframe thead th {\n",
       "        text-align: right;\n",
       "    }\n",
       "</style>\n",
       "<table border=\"1\" class=\"dataframe\">\n",
       "  <thead>\n",
       "    <tr style=\"text-align: right;\">\n",
       "      <th></th>\n",
       "      <th>title</th>\n",
       "      <th>year</th>\n",
       "      <th>name</th>\n",
       "      <th>type</th>\n",
       "      <th>character</th>\n",
       "      <th>n</th>\n",
       "    </tr>\n",
       "  </thead>\n",
       "  <tbody>\n",
       "    <tr>\n",
       "      <th>505</th>\n",
       "      <td>Baron 3D</td>\n",
       "      <td>2019</td>\n",
       "      <td>Mohamed Aamer</td>\n",
       "      <td>actor</td>\n",
       "      <td>Adam</td>\n",
       "      <td>NaN</td>\n",
       "    </tr>\n",
       "    <tr>\n",
       "      <th>765</th>\n",
       "      <td>Blink of an Eye</td>\n",
       "      <td>2019</td>\n",
       "      <td>Justin Aaronson</td>\n",
       "      <td>actor</td>\n",
       "      <td>Security Guard 2</td>\n",
       "      <td>31.0</td>\n",
       "    </tr>\n",
       "    <tr>\n",
       "      <th>2119</th>\n",
       "      <td>Kingdom: Fall of Illandrieal</td>\n",
       "      <td>2019</td>\n",
       "      <td>Jake Abbott</td>\n",
       "      <td>actor</td>\n",
       "      <td>Carlyne</td>\n",
       "      <td>NaN</td>\n",
       "    </tr>\n",
       "    <tr>\n",
       "      <th>2466</th>\n",
       "      <td>Kingdom: Fall of Illandrieal</td>\n",
       "      <td>2019</td>\n",
       "      <td>Hamza Ripley Abdallah</td>\n",
       "      <td>actor</td>\n",
       "      <td>Gnor</td>\n",
       "      <td>NaN</td>\n",
       "    </tr>\n",
       "    <tr>\n",
       "      <th>6958</th>\n",
       "      <td>Aladdin</td>\n",
       "      <td>2019</td>\n",
       "      <td>Numan Acar</td>\n",
       "      <td>actor</td>\n",
       "      <td>Hakim</td>\n",
       "      <td>NaN</td>\n",
       "    </tr>\n",
       "  </tbody>\n",
       "</table>\n",
       "</div>"
      ],
      "text/plain": [
       "                             title  year                   name   type  \\\n",
       "505                       Baron 3D  2019          Mohamed Aamer  actor   \n",
       "765                Blink of an Eye  2019        Justin Aaronson  actor   \n",
       "2119  Kingdom: Fall of Illandrieal  2019            Jake Abbott  actor   \n",
       "2466  Kingdom: Fall of Illandrieal  2019  Hamza Ripley Abdallah  actor   \n",
       "6958                       Aladdin  2019             Numan Acar  actor   \n",
       "\n",
       "             character     n  \n",
       "505               Adam   NaN  \n",
       "765   Security Guard 2  31.0  \n",
       "2119           Carlyne   NaN  \n",
       "2466              Gnor   NaN  \n",
       "6958             Hakim   NaN  "
      ]
     },
     "execution_count": 9,
     "metadata": {},
     "output_type": "execute_result"
    }
   ],
   "source": [
    "cast_greater_than_or_eq_2019.head()"
   ]
  },
  {
   "cell_type": "code",
   "execution_count": 10,
   "metadata": {
    "attributes": {
     "classes": [],
     "id": "",
     "n": "10"
    }
   },
   "outputs": [
    {
     "data": {
      "text/html": [
       "<div>\n",
       "<style scoped>\n",
       "    .dataframe tbody tr th:only-of-type {\n",
       "        vertical-align: middle;\n",
       "    }\n",
       "\n",
       "    .dataframe tbody tr th {\n",
       "        vertical-align: top;\n",
       "    }\n",
       "\n",
       "    .dataframe thead th {\n",
       "        text-align: right;\n",
       "    }\n",
       "</style>\n",
       "<table border=\"1\" class=\"dataframe\">\n",
       "  <thead>\n",
       "    <tr style=\"text-align: right;\">\n",
       "      <th></th>\n",
       "      <th>title</th>\n",
       "      <th>year</th>\n",
       "      <th>name</th>\n",
       "      <th>type</th>\n",
       "      <th>character</th>\n",
       "      <th>n</th>\n",
       "    </tr>\n",
       "  </thead>\n",
       "  <tbody>\n",
       "    <tr>\n",
       "      <th>3774832</th>\n",
       "      <td>Prince of Peace</td>\n",
       "      <td>2019</td>\n",
       "      <td>Carmen Zabaleta</td>\n",
       "      <td>actress</td>\n",
       "      <td>Daniel's mother</td>\n",
       "      <td>NaN</td>\n",
       "    </tr>\n",
       "    <tr>\n",
       "      <th>3779187</th>\n",
       "      <td>Untitled Spider-Man: Homecoming Sequel</td>\n",
       "      <td>2019</td>\n",
       "      <td>Zendaya</td>\n",
       "      <td>actress</td>\n",
       "      <td>Michelle Jones</td>\n",
       "      <td>NaN</td>\n",
       "    </tr>\n",
       "    <tr>\n",
       "      <th>3781734</th>\n",
       "      <td>TimeWarpers</td>\n",
       "      <td>2020</td>\n",
       "      <td>Jaquelen Zilva</td>\n",
       "      <td>actress</td>\n",
       "      <td>Maria Do Santos</td>\n",
       "      <td>NaN</td>\n",
       "    </tr>\n",
       "    <tr>\n",
       "      <th>3782142</th>\n",
       "      <td>The Invisible War</td>\n",
       "      <td>2020</td>\n",
       "      <td>Cary Zincke</td>\n",
       "      <td>actress</td>\n",
       "      <td>Florence Hereford</td>\n",
       "      <td>NaN</td>\n",
       "    </tr>\n",
       "    <tr>\n",
       "      <th>3782387</th>\n",
       "      <td>Tchnienie</td>\n",
       "      <td>2019</td>\n",
       "      <td>Emilia Ziolkowska</td>\n",
       "      <td>actress</td>\n",
       "      <td>Natasha</td>\n",
       "      <td>NaN</td>\n",
       "    </tr>\n",
       "  </tbody>\n",
       "</table>\n",
       "</div>"
      ],
      "text/plain": [
       "                                          title  year               name  \\\n",
       "3774832                         Prince of Peace  2019    Carmen Zabaleta   \n",
       "3779187  Untitled Spider-Man: Homecoming Sequel  2019            Zendaya   \n",
       "3781734                             TimeWarpers  2020     Jaquelen Zilva   \n",
       "3782142                       The Invisible War  2020        Cary Zincke   \n",
       "3782387                               Tchnienie  2019  Emilia Ziolkowska   \n",
       "\n",
       "            type          character   n  \n",
       "3774832  actress    Daniel's mother NaN  \n",
       "3779187  actress     Michelle Jones NaN  \n",
       "3781734  actress    Maria Do Santos NaN  \n",
       "3782142  actress  Florence Hereford NaN  \n",
       "3782387  actress            Natasha NaN  "
      ]
     },
     "execution_count": 10,
     "metadata": {},
     "output_type": "execute_result"
    }
   ],
   "source": [
    "cast_greater_than_or_eq_2019.tail()"
   ]
  },
  {
   "cell_type": "markdown",
   "metadata": {},
   "source": [
    "## Boolean Indexing `and` and `or`\n",
    "\n",
    "Consider a scenario whereby we would like to\n",
    "use the `and` or `or` operators on a Series to do a more complex comparison. The\n",
    "raw python `and` and `or` cannot work with a Series, they work with primitive\n",
    "Booleans. To use `and` or `or` with pandas Series, pandas makes use of the\n",
    "bitwise operators `&` and `|`.\n",
    "\n",
    "For instance, let us filter our casts dataframe\n",
    "to only include cast where year is greater than or equal to 2015 and less than\n",
    "or equal to 2016."
   ]
  },
  {
   "cell_type": "code",
   "execution_count": 11,
   "metadata": {
    "attributes": {
     "classes": [],
     "id": "",
     "n": "11"
    }
   },
   "outputs": [],
   "source": [
    "is_greater_than_or_eq_2015 = df['year'] >= 2015\n",
    "is_less_than_or_eq_2016 = df['year'] <= 2016"
   ]
  },
  {
   "cell_type": "code",
   "execution_count": 12,
   "metadata": {
    "attributes": {
     "classes": [],
     "id": "",
     "n": "12"
    }
   },
   "outputs": [],
   "source": [
    "between_2015_and_2016 = df[is_greater_than_or_eq_2015 & is_less_than_or_eq_2016]\n",
    "\n",
    "# for or we can use the bitwise or |"
   ]
  },
  {
   "cell_type": "code",
   "execution_count": 13,
   "metadata": {
    "attributes": {
     "classes": [],
     "id": "",
     "n": "13"
    }
   },
   "outputs": [
    {
     "data": {
      "text/plain": [
       "311606"
      ]
     },
     "execution_count": 13,
     "metadata": {},
     "output_type": "execute_result"
    }
   ],
   "source": [
    "len(between_2015_and_2016)"
   ]
  },
  {
   "cell_type": "code",
   "execution_count": 14,
   "metadata": {
    "attributes": {
     "classes": [],
     "id": "",
     "n": "14"
    }
   },
   "outputs": [
    {
     "data": {
      "text/html": [
       "<div>\n",
       "<style scoped>\n",
       "    .dataframe tbody tr th:only-of-type {\n",
       "        vertical-align: middle;\n",
       "    }\n",
       "\n",
       "    .dataframe tbody tr th {\n",
       "        vertical-align: top;\n",
       "    }\n",
       "\n",
       "    .dataframe thead th {\n",
       "        text-align: right;\n",
       "    }\n",
       "</style>\n",
       "<table border=\"1\" class=\"dataframe\">\n",
       "  <thead>\n",
       "    <tr style=\"text-align: right;\">\n",
       "      <th></th>\n",
       "      <th>title</th>\n",
       "      <th>year</th>\n",
       "      <th>name</th>\n",
       "      <th>type</th>\n",
       "      <th>character</th>\n",
       "      <th>n</th>\n",
       "    </tr>\n",
       "  </thead>\n",
       "  <tbody>\n",
       "    <tr>\n",
       "      <th>0</th>\n",
       "      <td>Closet Monster</td>\n",
       "      <td>2015</td>\n",
       "      <td>Buffy #1</td>\n",
       "      <td>actor</td>\n",
       "      <td>Buffy 4</td>\n",
       "      <td>31.0</td>\n",
       "    </tr>\n",
       "    <tr>\n",
       "      <th>3</th>\n",
       "      <td>Secret in Their Eyes</td>\n",
       "      <td>2015</td>\n",
       "      <td>$hutter</td>\n",
       "      <td>actor</td>\n",
       "      <td>2002 Dodger Fan</td>\n",
       "      <td>NaN</td>\n",
       "    </tr>\n",
       "    <tr>\n",
       "      <th>4</th>\n",
       "      <td>Steve Jobs</td>\n",
       "      <td>2015</td>\n",
       "      <td>$hutter</td>\n",
       "      <td>actor</td>\n",
       "      <td>1988 Opera House Patron</td>\n",
       "      <td>NaN</td>\n",
       "    </tr>\n",
       "    <tr>\n",
       "      <th>5</th>\n",
       "      <td>Straight Outta Compton</td>\n",
       "      <td>2015</td>\n",
       "      <td>$hutter</td>\n",
       "      <td>actor</td>\n",
       "      <td>Club Patron</td>\n",
       "      <td>NaN</td>\n",
       "    </tr>\n",
       "    <tr>\n",
       "      <th>6</th>\n",
       "      <td>Straight Outta Compton</td>\n",
       "      <td>2015</td>\n",
       "      <td>$hutter</td>\n",
       "      <td>actor</td>\n",
       "      <td>Dopeman</td>\n",
       "      <td>NaN</td>\n",
       "    </tr>\n",
       "  </tbody>\n",
       "</table>\n",
       "</div>"
      ],
      "text/plain": [
       "                    title  year      name   type                character  \\\n",
       "0          Closet Monster  2015  Buffy #1  actor                  Buffy 4   \n",
       "3    Secret in Their Eyes  2015   $hutter  actor          2002 Dodger Fan   \n",
       "4              Steve Jobs  2015   $hutter  actor  1988 Opera House Patron   \n",
       "5  Straight Outta Compton  2015   $hutter  actor              Club Patron   \n",
       "6  Straight Outta Compton  2015   $hutter  actor                  Dopeman   \n",
       "\n",
       "      n  \n",
       "0  31.0  \n",
       "3   NaN  \n",
       "4   NaN  \n",
       "5   NaN  \n",
       "6   NaN  "
      ]
     },
     "execution_count": 14,
     "metadata": {},
     "output_type": "execute_result"
    }
   ],
   "source": [
    "between_2015_and_2016.head()"
   ]
  },
  {
   "cell_type": "code",
   "execution_count": 15,
   "metadata": {
    "attributes": {
     "classes": [],
     "id": "",
     "n": "15"
    }
   },
   "outputs": [
    {
     "data": {
      "text/html": [
       "<div>\n",
       "<style scoped>\n",
       "    .dataframe tbody tr th:only-of-type {\n",
       "        vertical-align: middle;\n",
       "    }\n",
       "\n",
       "    .dataframe tbody tr th {\n",
       "        vertical-align: top;\n",
       "    }\n",
       "\n",
       "    .dataframe thead th {\n",
       "        text-align: right;\n",
       "    }\n",
       "</style>\n",
       "<table border=\"1\" class=\"dataframe\">\n",
       "  <thead>\n",
       "    <tr style=\"text-align: right;\">\n",
       "      <th></th>\n",
       "      <th>title</th>\n",
       "      <th>year</th>\n",
       "      <th>name</th>\n",
       "      <th>type</th>\n",
       "      <th>character</th>\n",
       "      <th>n</th>\n",
       "    </tr>\n",
       "  </thead>\n",
       "  <tbody>\n",
       "    <tr>\n",
       "      <th>3786076</th>\n",
       "      <td>Kvinner i for store herreskjorter</td>\n",
       "      <td>2015</td>\n",
       "      <td>Gunnhild ?yehaug</td>\n",
       "      <td>actress</td>\n",
       "      <td>Fortellerstemme</td>\n",
       "      <td>29.0</td>\n",
       "    </tr>\n",
       "    <tr>\n",
       "      <th>3786079</th>\n",
       "      <td>Kvinner i for store herreskjorter</td>\n",
       "      <td>2015</td>\n",
       "      <td>Ingunn Beate ?yen</td>\n",
       "      <td>actress</td>\n",
       "      <td>Jordmor</td>\n",
       "      <td>16.0</td>\n",
       "    </tr>\n",
       "    <tr>\n",
       "      <th>3786108</th>\n",
       "      <td>Canim kardesim benim</td>\n",
       "      <td>2016</td>\n",
       "      <td>Sebnem ?naldi</td>\n",
       "      <td>actress</td>\n",
       "      <td>Lale</td>\n",
       "      <td>NaN</td>\n",
       "    </tr>\n",
       "    <tr>\n",
       "      <th>3786133</th>\n",
       "      <td>Iftarlik Gazoz</td>\n",
       "      <td>2016</td>\n",
       "      <td>Karya ?nsal</td>\n",
       "      <td>actress</td>\n",
       "      <td>Misafir Bebek</td>\n",
       "      <td>18.0</td>\n",
       "    </tr>\n",
       "    <tr>\n",
       "      <th>3786148</th>\n",
       "      <td>K (II)</td>\n",
       "      <td>2015</td>\n",
       "      <td>?rchaihu</td>\n",
       "      <td>actress</td>\n",
       "      <td>Castle Inn Singer 2</td>\n",
       "      <td>NaN</td>\n",
       "    </tr>\n",
       "  </tbody>\n",
       "</table>\n",
       "</div>"
      ],
      "text/plain": [
       "                                     title  year               name     type  \\\n",
       "3786076  Kvinner i for store herreskjorter  2015   Gunnhild ?yehaug  actress   \n",
       "3786079  Kvinner i for store herreskjorter  2015  Ingunn Beate ?yen  actress   \n",
       "3786108               Canim kardesim benim  2016      Sebnem ?naldi  actress   \n",
       "3786133                     Iftarlik Gazoz  2016        Karya ?nsal  actress   \n",
       "3786148                             K (II)  2015           ?rchaihu  actress   \n",
       "\n",
       "                   character     n  \n",
       "3786076      Fortellerstemme  29.0  \n",
       "3786079              Jordmor  16.0  \n",
       "3786108                 Lale   NaN  \n",
       "3786133        Misafir Bebek  18.0  \n",
       "3786148  Castle Inn Singer 2   NaN  "
      ]
     },
     "execution_count": 15,
     "metadata": {},
     "output_type": "execute_result"
    }
   ],
   "source": [
    "between_2015_and_2016.tail()"
   ]
  },
  {
   "cell_type": "markdown",
   "metadata": {},
   "source": [
    "We can sort the dataframe by columns"
   ]
  },
  {
   "cell_type": "code",
   "execution_count": 16,
   "metadata": {
    "attributes": {
     "classes": [],
     "id": "",
     "n": "16"
    }
   },
   "outputs": [
    {
     "data": {
      "text/html": [
       "<div>\n",
       "<style scoped>\n",
       "    .dataframe tbody tr th:only-of-type {\n",
       "        vertical-align: middle;\n",
       "    }\n",
       "\n",
       "    .dataframe tbody tr th {\n",
       "        vertical-align: top;\n",
       "    }\n",
       "\n",
       "    .dataframe thead th {\n",
       "        text-align: right;\n",
       "    }\n",
       "</style>\n",
       "<table border=\"1\" class=\"dataframe\">\n",
       "  <thead>\n",
       "    <tr style=\"text-align: right;\">\n",
       "      <th></th>\n",
       "      <th>title</th>\n",
       "      <th>year</th>\n",
       "      <th>name</th>\n",
       "      <th>type</th>\n",
       "      <th>character</th>\n",
       "      <th>n</th>\n",
       "    </tr>\n",
       "  </thead>\n",
       "  <tbody>\n",
       "    <tr>\n",
       "      <th>3</th>\n",
       "      <td>Secret in Their Eyes</td>\n",
       "      <td>2015</td>\n",
       "      <td>$hutter</td>\n",
       "      <td>actor</td>\n",
       "      <td>2002 Dodger Fan</td>\n",
       "      <td>NaN</td>\n",
       "    </tr>\n",
       "    <tr>\n",
       "      <th>4</th>\n",
       "      <td>Steve Jobs</td>\n",
       "      <td>2015</td>\n",
       "      <td>$hutter</td>\n",
       "      <td>actor</td>\n",
       "      <td>1988 Opera House Patron</td>\n",
       "      <td>NaN</td>\n",
       "    </tr>\n",
       "    <tr>\n",
       "      <th>5</th>\n",
       "      <td>Straight Outta Compton</td>\n",
       "      <td>2015</td>\n",
       "      <td>$hutter</td>\n",
       "      <td>actor</td>\n",
       "      <td>Club Patron</td>\n",
       "      <td>NaN</td>\n",
       "    </tr>\n",
       "    <tr>\n",
       "      <th>6</th>\n",
       "      <td>Straight Outta Compton</td>\n",
       "      <td>2015</td>\n",
       "      <td>$hutter</td>\n",
       "      <td>actor</td>\n",
       "      <td>Dopeman</td>\n",
       "      <td>NaN</td>\n",
       "    </tr>\n",
       "    <tr>\n",
       "      <th>1156809</th>\n",
       "      <td>Isai</td>\n",
       "      <td>2015</td>\n",
       "      <td>'Ganja' Karuppu</td>\n",
       "      <td>actor</td>\n",
       "      <td>Karuppu</td>\n",
       "      <td>5.0</td>\n",
       "    </tr>\n",
       "  </tbody>\n",
       "</table>\n",
       "</div>"
      ],
      "text/plain": [
       "                          title  year             name   type  \\\n",
       "3          Secret in Their Eyes  2015          $hutter  actor   \n",
       "4                    Steve Jobs  2015          $hutter  actor   \n",
       "5        Straight Outta Compton  2015          $hutter  actor   \n",
       "6        Straight Outta Compton  2015          $hutter  actor   \n",
       "1156809                    Isai  2015  'Ganja' Karuppu  actor   \n",
       "\n",
       "                       character    n  \n",
       "3                2002 Dodger Fan  NaN  \n",
       "4        1988 Opera House Patron  NaN  \n",
       "5                    Club Patron  NaN  \n",
       "6                        Dopeman  NaN  \n",
       "1156809                  Karuppu  5.0  "
      ]
     },
     "execution_count": 16,
     "metadata": {},
     "output_type": "execute_result"
    }
   ],
   "source": [
    "between_2015_and_2016.sort_values(['year', 'name']).head()\n",
    "\n",
    "# We can use df.sort_value('column_name') to sort only by 'column_name'"
   ]
  },
  {
   "cell_type": "markdown",
   "metadata": {},
   "source": [
    "We can set a desirable value to all null years in the dataframe"
   ]
  },
  {
   "cell_type": "code",
   "execution_count": 17,
   "metadata": {
    "attributes": {
     "classes": [],
     "id": "",
     "n": "17"
    }
   },
   "outputs": [
    {
     "data": {
      "text/html": [
       "<div>\n",
       "<style scoped>\n",
       "    .dataframe tbody tr th:only-of-type {\n",
       "        vertical-align: middle;\n",
       "    }\n",
       "\n",
       "    .dataframe tbody tr th {\n",
       "        vertical-align: top;\n",
       "    }\n",
       "\n",
       "    .dataframe thead th {\n",
       "        text-align: right;\n",
       "    }\n",
       "</style>\n",
       "<table border=\"1\" class=\"dataframe\">\n",
       "  <thead>\n",
       "    <tr style=\"text-align: right;\">\n",
       "      <th></th>\n",
       "      <th>title</th>\n",
       "      <th>year</th>\n",
       "      <th>name</th>\n",
       "      <th>type</th>\n",
       "      <th>character</th>\n",
       "      <th>n</th>\n",
       "    </tr>\n",
       "  </thead>\n",
       "  <tbody>\n",
       "    <tr>\n",
       "      <th>0</th>\n",
       "      <td>Closet Monster</td>\n",
       "      <td>2015</td>\n",
       "      <td>Buffy #1</td>\n",
       "      <td>actor</td>\n",
       "      <td>Buffy 4</td>\n",
       "      <td>31.0</td>\n",
       "    </tr>\n",
       "    <tr>\n",
       "      <th>1</th>\n",
       "      <td>Suuri illusioni</td>\n",
       "      <td>1985</td>\n",
       "      <td>Homo $</td>\n",
       "      <td>actor</td>\n",
       "      <td>Guests</td>\n",
       "      <td>22.0</td>\n",
       "    </tr>\n",
       "    <tr>\n",
       "      <th>2</th>\n",
       "      <td>Battle of the Sexes</td>\n",
       "      <td>2017</td>\n",
       "      <td>$hutter</td>\n",
       "      <td>actor</td>\n",
       "      <td>Bobby Riggs Fan</td>\n",
       "      <td>10.0</td>\n",
       "    </tr>\n",
       "    <tr>\n",
       "      <th>3</th>\n",
       "      <td>Secret in Their Eyes</td>\n",
       "      <td>2015</td>\n",
       "      <td>$hutter</td>\n",
       "      <td>actor</td>\n",
       "      <td>2002 Dodger Fan</td>\n",
       "      <td>NaN</td>\n",
       "    </tr>\n",
       "    <tr>\n",
       "      <th>4</th>\n",
       "      <td>Steve Jobs</td>\n",
       "      <td>2015</td>\n",
       "      <td>$hutter</td>\n",
       "      <td>actor</td>\n",
       "      <td>1988 Opera House Patron</td>\n",
       "      <td>NaN</td>\n",
       "    </tr>\n",
       "  </tbody>\n",
       "</table>\n",
       "</div>"
      ],
      "text/plain": [
       "                  title  year      name   type                character     n\n",
       "0        Closet Monster  2015  Buffy #1  actor                  Buffy 4  31.0\n",
       "1       Suuri illusioni  1985    Homo $  actor                   Guests  22.0\n",
       "2   Battle of the Sexes  2017   $hutter  actor          Bobby Riggs Fan  10.0\n",
       "3  Secret in Their Eyes  2015   $hutter  actor          2002 Dodger Fan   NaN\n",
       "4            Steve Jobs  2015   $hutter  actor  1988 Opera House Patron   NaN"
      ]
     },
     "execution_count": 17,
     "metadata": {},
     "output_type": "execute_result"
    }
   ],
   "source": [
    "is_null_year = df['year'].isnull()\n",
    "df.loc[is_null_year, 'year'] = 1900\n",
    "df.head()"
   ]
  },
  {
   "cell_type": "markdown",
   "metadata": {},
   "source": [
    "Sometimes we may not want to do only\n",
    "comparison checks when filtering\n",
    "dataframes. Sometimes we want string operations\n",
    "like `startswith`, `len` etc. on\n",
    "a pandas Series i.e. column. We can make use of\n",
    "the `str` namescape in order to\n",
    "access `str` methods.\n",
    "\n",
    "The catch here is that\n",
    "these `str` accessor can only be\n",
    "used with columns that contain String values.\n",
    "Using `.str` on a non string\n",
    "column will cause an Attribute Error.\n",
    "\n",
    "We can use\n",
    "`.astype('str')` on a\n",
    "Dataframe or a Series."
   ]
  },
  {
   "cell_type": "code",
   "execution_count": 18,
   "metadata": {
    "attributes": {
     "classes": [],
     "id": "",
     "n": "18"
    }
   },
   "outputs": [
    {
     "data": {
      "text/plain": [
       "0           True\n",
       "1          False\n",
       "2           True\n",
       "3           True\n",
       "4           True\n",
       "5           True\n",
       "6           True\n",
       "7           True\n",
       "8           True\n",
       "9           True\n",
       "10          True\n",
       "11          True\n",
       "12         False\n",
       "13          True\n",
       "14          True\n",
       "15          True\n",
       "16          True\n",
       "17          True\n",
       "18          True\n",
       "19         False\n",
       "20         False\n",
       "21          True\n",
       "22          True\n",
       "23          True\n",
       "24          True\n",
       "25         False\n",
       "26         False\n",
       "27          True\n",
       "28         False\n",
       "29          True\n",
       "           ...  \n",
       "3786146     True\n",
       "3786147     True\n",
       "3786148     True\n",
       "3786149     True\n",
       "3786150     True\n",
       "3786151     True\n",
       "3786152     True\n",
       "3786153    False\n",
       "3786154    False\n",
       "3786155     True\n",
       "3786156     True\n",
       "3786157     True\n",
       "3786158     True\n",
       "3786159     True\n",
       "3786160     True\n",
       "3786161    False\n",
       "3786162    False\n",
       "3786163     True\n",
       "3786164     True\n",
       "3786165    False\n",
       "3786166     True\n",
       "3786167     True\n",
       "3786168     True\n",
       "3786169     True\n",
       "3786170    False\n",
       "3786171    False\n",
       "3786172     True\n",
       "3786173    False\n",
       "3786174     True\n",
       "3786175    False\n",
       "Name: year, Length: 3786176, dtype: bool"
      ]
     },
     "execution_count": 18,
     "metadata": {},
     "output_type": "execute_result"
    }
   ],
   "source": [
    "df['year'].astype('str').str.startswith('20').head(20)"
   ]
  },
  {
   "cell_type": "markdown",
   "metadata": {},
   "source": [
    "## String Methods on a Dataframe\n",
    "\n",
    "Sometimes we may not want to do only\n",
    "comparison checks when filtering dataframes. Sometimes we want string operations\n",
    "like `startswith`, `len` etc. on a pandas Series i.e. column. We can make use of\n",
    "the `str` namescape in order to access `str` methods.\n",
    "\n",
    "The catch here is that\n",
    "these `str` accessor can only be used with columns that contain String values.\n",
    "Using `.str` on a non string column will cause an Attribute Error.\n",
    "\n",
    "We can use\n",
    "`.astype('str')` on a Dataframe or a Series."
   ]
  },
  {
   "cell_type": "code",
   "execution_count": 19,
   "metadata": {
    "attributes": {
     "classes": [],
     "id": "",
     "n": "19"
    }
   },
   "outputs": [
    {
     "data": {
      "text/plain": [
       "0     True\n",
       "1    False\n",
       "2     True\n",
       "3     True\n",
       "4     True\n",
       "Name: year, dtype: bool"
      ]
     },
     "execution_count": 19,
     "metadata": {},
     "output_type": "execute_result"
    }
   ],
   "source": [
    "df['year'].astype('str').str.startswith('20').head()"
   ]
  },
  {
   "cell_type": "markdown",
   "metadata": {},
   "source": [
    "## Finding Frequecies in Data\n",
    "\n",
    "We are sometimes interested in knowing the number\n",
    "of occurences of an entry in a column of data. We can use `value_counts` to\n",
    "achieve that."
   ]
  },
  {
   "cell_type": "code",
   "execution_count": 20,
   "metadata": {
    "attributes": {
     "classes": [],
     "id": "",
     "n": "20"
    }
   },
   "outputs": [
    {
     "data": {
      "text/plain": [
       "2017    159440\n",
       "2016    159132\n",
       "2015    152474\n",
       "2014    151007\n",
       "2013    142421\n",
       "Name: year, dtype: int64"
      ]
     },
     "execution_count": 20,
     "metadata": {},
     "output_type": "execute_result"
    }
   ],
   "source": [
    "df['year'].value_counts().head()"
   ]
  },
  {
   "cell_type": "markdown",
   "metadata": {},
   "source": [
    "We ge a pandas Series, sorted in a descending order, from the above operation.\n",
    "We could even plot the results for;"
   ]
  },
  {
   "cell_type": "code",
   "execution_count": 21,
   "metadata": {
    "attributes": {
     "classes": [],
     "id": "",
     "n": "21"
    }
   },
   "outputs": [
    {
     "data": {
      "text/plain": [
       "<matplotlib.axes._subplots.AxesSubplot at 0x11cfdd9b0>"
      ]
     },
     "execution_count": 21,
     "metadata": {},
     "output_type": "execute_result"
    }
   ],
   "source": [
    "df['year'].value_counts().sort_index().plot()"
   ]
  },
  {
   "cell_type": "markdown",
   "metadata": {},
   "source": [
    "## Working with the Index\n",
    "The index plays a vital role in organising the data\n",
    "and providing access to the data. We can get to data much faster much more than\n",
    "we could otherwise.\n",
    "\n",
    "### Setting the Index\n",
    "We set an index on a dataframe using\n",
    "the `set_index` pandas method."
   ]
  },
  {
   "cell_type": "code",
   "execution_count": 22,
   "metadata": {
    "attributes": {
     "classes": [],
     "id": "",
     "n": "22"
    }
   },
   "outputs": [
    {
     "data": {
      "text/html": [
       "<div>\n",
       "<style scoped>\n",
       "    .dataframe tbody tr th:only-of-type {\n",
       "        vertical-align: middle;\n",
       "    }\n",
       "\n",
       "    .dataframe tbody tr th {\n",
       "        vertical-align: top;\n",
       "    }\n",
       "\n",
       "    .dataframe thead th {\n",
       "        text-align: right;\n",
       "    }\n",
       "</style>\n",
       "<table border=\"1\" class=\"dataframe\">\n",
       "  <thead>\n",
       "    <tr style=\"text-align: right;\">\n",
       "      <th></th>\n",
       "      <th>year</th>\n",
       "      <th>name</th>\n",
       "      <th>type</th>\n",
       "      <th>character</th>\n",
       "      <th>n</th>\n",
       "    </tr>\n",
       "    <tr>\n",
       "      <th>title</th>\n",
       "      <th></th>\n",
       "      <th></th>\n",
       "      <th></th>\n",
       "      <th></th>\n",
       "      <th></th>\n",
       "    </tr>\n",
       "  </thead>\n",
       "  <tbody>\n",
       "    <tr>\n",
       "      <th>#1 Serial Killer</th>\n",
       "      <td>2013</td>\n",
       "      <td>Parry Shen</td>\n",
       "      <td>actor</td>\n",
       "      <td>Murder Victim</td>\n",
       "      <td>NaN</td>\n",
       "    </tr>\n",
       "    <tr>\n",
       "      <th>#1 Serial Killer</th>\n",
       "      <td>2013</td>\n",
       "      <td>Zachary (X) Brown</td>\n",
       "      <td>actor</td>\n",
       "      <td>Africian American Teen</td>\n",
       "      <td>18.0</td>\n",
       "    </tr>\n",
       "    <tr>\n",
       "      <th>#1 Serial Killer</th>\n",
       "      <td>2013</td>\n",
       "      <td>Eric (II) St. John</td>\n",
       "      <td>actor</td>\n",
       "      <td>Officer Williams</td>\n",
       "      <td>NaN</td>\n",
       "    </tr>\n",
       "    <tr>\n",
       "      <th>#1 Serial Killer</th>\n",
       "      <td>2013</td>\n",
       "      <td>Jinxia Ma</td>\n",
       "      <td>actress</td>\n",
       "      <td>Chinese Teacher</td>\n",
       "      <td>24.0</td>\n",
       "    </tr>\n",
       "    <tr>\n",
       "      <th>#1 Serial Killer</th>\n",
       "      <td>2013</td>\n",
       "      <td>Gemma Massot</td>\n",
       "      <td>actress</td>\n",
       "      <td>Betty Goodman</td>\n",
       "      <td>7.0</td>\n",
       "    </tr>\n",
       "  </tbody>\n",
       "</table>\n",
       "</div>"
      ],
      "text/plain": [
       "                  year                name     type               character  \\\n",
       "title                                                                         \n",
       "#1 Serial Killer  2013          Parry Shen    actor           Murder Victim   \n",
       "#1 Serial Killer  2013   Zachary (X) Brown    actor  Africian American Teen   \n",
       "#1 Serial Killer  2013  Eric (II) St. John    actor        Officer Williams   \n",
       "#1 Serial Killer  2013           Jinxia Ma  actress         Chinese Teacher   \n",
       "#1 Serial Killer  2013        Gemma Massot  actress           Betty Goodman   \n",
       "\n",
       "                     n  \n",
       "title                   \n",
       "#1 Serial Killer   NaN  \n",
       "#1 Serial Killer  18.0  \n",
       "#1 Serial Killer   NaN  \n",
       "#1 Serial Killer  24.0  \n",
       "#1 Serial Killer   7.0  "
      ]
     },
     "execution_count": 22,
     "metadata": {},
     "output_type": "execute_result"
    }
   ],
   "source": [
    "df2 = df.set_index('title').sort_index()\n",
    "# it is best to have a sorted index to speed up lookup operations\n",
    "df2.head()"
   ]
  },
  {
   "cell_type": "markdown",
   "metadata": {},
   "source": [
    "Running indexing operations on a dataframe requires us to use `loc` on the\n",
    "dataframe, otherwise, pandas would think that we're trying to access a column."
   ]
  },
  {
   "cell_type": "code",
   "execution_count": 23,
   "metadata": {
    "attributes": {
     "classes": [],
     "id": "",
     "n": "23"
    }
   },
   "outputs": [
    {
     "data": {
      "text/html": [
       "<div>\n",
       "<style scoped>\n",
       "    .dataframe tbody tr th:only-of-type {\n",
       "        vertical-align: middle;\n",
       "    }\n",
       "\n",
       "    .dataframe tbody tr th {\n",
       "        vertical-align: top;\n",
       "    }\n",
       "\n",
       "    .dataframe thead th {\n",
       "        text-align: right;\n",
       "    }\n",
       "</style>\n",
       "<table border=\"1\" class=\"dataframe\">\n",
       "  <thead>\n",
       "    <tr style=\"text-align: right;\">\n",
       "      <th></th>\n",
       "      <th>year</th>\n",
       "      <th>name</th>\n",
       "      <th>type</th>\n",
       "      <th>character</th>\n",
       "      <th>n</th>\n",
       "    </tr>\n",
       "    <tr>\n",
       "      <th>title</th>\n",
       "      <th></th>\n",
       "      <th></th>\n",
       "      <th></th>\n",
       "      <th></th>\n",
       "      <th></th>\n",
       "    </tr>\n",
       "  </thead>\n",
       "  <tbody>\n",
       "    <tr>\n",
       "      <th>Sleuth</th>\n",
       "      <td>2007</td>\n",
       "      <td>Eve (II) Channing</td>\n",
       "      <td>actress</td>\n",
       "      <td>Marguerite Wyke</td>\n",
       "      <td>NaN</td>\n",
       "    </tr>\n",
       "    <tr>\n",
       "      <th>Sleuth</th>\n",
       "      <td>1972</td>\n",
       "      <td>Michael Caine</td>\n",
       "      <td>actor</td>\n",
       "      <td>Milo Tindle</td>\n",
       "      <td>2.0</td>\n",
       "    </tr>\n",
       "    <tr>\n",
       "      <th>Sleuth</th>\n",
       "      <td>1972</td>\n",
       "      <td>Alec Cawthorne</td>\n",
       "      <td>actor</td>\n",
       "      <td>Inspector Doppler</td>\n",
       "      <td>3.0</td>\n",
       "    </tr>\n",
       "    <tr>\n",
       "      <th>Sleuth</th>\n",
       "      <td>2007</td>\n",
       "      <td>Kenneth Branagh</td>\n",
       "      <td>actor</td>\n",
       "      <td>Other Man on T.V.</td>\n",
       "      <td>NaN</td>\n",
       "    </tr>\n",
       "    <tr>\n",
       "      <th>Sleuth</th>\n",
       "      <td>2007</td>\n",
       "      <td>Harold Pinter</td>\n",
       "      <td>actor</td>\n",
       "      <td>Man on T.V.</td>\n",
       "      <td>3.0</td>\n",
       "    </tr>\n",
       "    <tr>\n",
       "      <th>Sleuth</th>\n",
       "      <td>2007</td>\n",
       "      <td>Michael Caine</td>\n",
       "      <td>actor</td>\n",
       "      <td>Andrew</td>\n",
       "      <td>1.0</td>\n",
       "    </tr>\n",
       "    <tr>\n",
       "      <th>Sleuth</th>\n",
       "      <td>1972</td>\n",
       "      <td>Eve (III) Channing</td>\n",
       "      <td>actress</td>\n",
       "      <td>Marguerite Wyke</td>\n",
       "      <td>5.0</td>\n",
       "    </tr>\n",
       "    <tr>\n",
       "      <th>Sleuth</th>\n",
       "      <td>2007</td>\n",
       "      <td>Alec (II) Cawthorne</td>\n",
       "      <td>actor</td>\n",
       "      <td>Inspector Doppler</td>\n",
       "      <td>NaN</td>\n",
       "    </tr>\n",
       "    <tr>\n",
       "      <th>Sleuth</th>\n",
       "      <td>1972</td>\n",
       "      <td>John (II) Matthews</td>\n",
       "      <td>actor</td>\n",
       "      <td>Detective Sergeant Tarrant</td>\n",
       "      <td>4.0</td>\n",
       "    </tr>\n",
       "    <tr>\n",
       "      <th>Sleuth</th>\n",
       "      <td>2007</td>\n",
       "      <td>Carmel O'Sullivan</td>\n",
       "      <td>actress</td>\n",
       "      <td>Maggie</td>\n",
       "      <td>NaN</td>\n",
       "    </tr>\n",
       "    <tr>\n",
       "      <th>Sleuth</th>\n",
       "      <td>1972</td>\n",
       "      <td>Teddy Martin</td>\n",
       "      <td>actor</td>\n",
       "      <td>Police Constable Higgs</td>\n",
       "      <td>6.0</td>\n",
       "    </tr>\n",
       "    <tr>\n",
       "      <th>Sleuth</th>\n",
       "      <td>2007</td>\n",
       "      <td>Jude Law</td>\n",
       "      <td>actor</td>\n",
       "      <td>Milo</td>\n",
       "      <td>2.0</td>\n",
       "    </tr>\n",
       "    <tr>\n",
       "      <th>Sleuth</th>\n",
       "      <td>1972</td>\n",
       "      <td>Laurence Olivier</td>\n",
       "      <td>actor</td>\n",
       "      <td>Andrew Wyke</td>\n",
       "      <td>1.0</td>\n",
       "    </tr>\n",
       "  </tbody>\n",
       "</table>\n",
       "</div>"
      ],
      "text/plain": [
       "        year                 name     type                   character    n\n",
       "title                                                                      \n",
       "Sleuth  2007    Eve (II) Channing  actress             Marguerite Wyke  NaN\n",
       "Sleuth  1972        Michael Caine    actor                 Milo Tindle  2.0\n",
       "Sleuth  1972       Alec Cawthorne    actor           Inspector Doppler  3.0\n",
       "Sleuth  2007      Kenneth Branagh    actor           Other Man on T.V.  NaN\n",
       "Sleuth  2007        Harold Pinter    actor                 Man on T.V.  3.0\n",
       "Sleuth  2007        Michael Caine    actor                      Andrew  1.0\n",
       "Sleuth  1972   Eve (III) Channing  actress             Marguerite Wyke  5.0\n",
       "Sleuth  2007  Alec (II) Cawthorne    actor           Inspector Doppler  NaN\n",
       "Sleuth  1972   John (II) Matthews    actor  Detective Sergeant Tarrant  4.0\n",
       "Sleuth  2007    Carmel O'Sullivan  actress                      Maggie  NaN\n",
       "Sleuth  1972         Teddy Martin    actor      Police Constable Higgs  6.0\n",
       "Sleuth  2007             Jude Law    actor                        Milo  2.0\n",
       "Sleuth  1972     Laurence Olivier    actor                 Andrew Wyke  1.0"
      ]
     },
     "execution_count": 23,
     "metadata": {},
     "output_type": "execute_result"
    }
   ],
   "source": [
    "df2.loc['Sleuth']\n",
    "# we use loc to enable indexing."
   ]
  },
  {
   "cell_type": "markdown",
   "metadata": {},
   "source": [
    "In order to filter multiple values from the index, we can pass an array e.g. of\n",
    "Boolean values, or actual index values."
   ]
  },
  {
   "cell_type": "code",
   "execution_count": 24,
   "metadata": {
    "attributes": {
     "classes": [],
     "id": "",
     "n": "24"
    }
   },
   "outputs": [
    {
     "data": {
      "text/html": [
       "<div>\n",
       "<style scoped>\n",
       "    .dataframe tbody tr th:only-of-type {\n",
       "        vertical-align: middle;\n",
       "    }\n",
       "\n",
       "    .dataframe tbody tr th {\n",
       "        vertical-align: top;\n",
       "    }\n",
       "\n",
       "    .dataframe thead th {\n",
       "        text-align: right;\n",
       "    }\n",
       "</style>\n",
       "<table border=\"1\" class=\"dataframe\">\n",
       "  <thead>\n",
       "    <tr style=\"text-align: right;\">\n",
       "      <th></th>\n",
       "      <th>year</th>\n",
       "      <th>name</th>\n",
       "      <th>type</th>\n",
       "      <th>character</th>\n",
       "      <th>n</th>\n",
       "    </tr>\n",
       "    <tr>\n",
       "      <th>title</th>\n",
       "      <th></th>\n",
       "      <th></th>\n",
       "      <th></th>\n",
       "      <th></th>\n",
       "      <th></th>\n",
       "    </tr>\n",
       "  </thead>\n",
       "  <tbody>\n",
       "    <tr>\n",
       "      <th>Sleuth</th>\n",
       "      <td>2007</td>\n",
       "      <td>Eve (II) Channing</td>\n",
       "      <td>actress</td>\n",
       "      <td>Marguerite Wyke</td>\n",
       "      <td>NaN</td>\n",
       "    </tr>\n",
       "    <tr>\n",
       "      <th>Sleuth</th>\n",
       "      <td>1972</td>\n",
       "      <td>Michael Caine</td>\n",
       "      <td>actor</td>\n",
       "      <td>Milo Tindle</td>\n",
       "      <td>2.0</td>\n",
       "    </tr>\n",
       "    <tr>\n",
       "      <th>Sleuth</th>\n",
       "      <td>1972</td>\n",
       "      <td>Alec Cawthorne</td>\n",
       "      <td>actor</td>\n",
       "      <td>Inspector Doppler</td>\n",
       "      <td>3.0</td>\n",
       "    </tr>\n",
       "    <tr>\n",
       "      <th>Sleuth</th>\n",
       "      <td>2007</td>\n",
       "      <td>Kenneth Branagh</td>\n",
       "      <td>actor</td>\n",
       "      <td>Other Man on T.V.</td>\n",
       "      <td>NaN</td>\n",
       "    </tr>\n",
       "    <tr>\n",
       "      <th>Sleuth</th>\n",
       "      <td>2007</td>\n",
       "      <td>Harold Pinter</td>\n",
       "      <td>actor</td>\n",
       "      <td>Man on T.V.</td>\n",
       "      <td>3.0</td>\n",
       "    </tr>\n",
       "  </tbody>\n",
       "</table>\n",
       "</div>"
      ],
      "text/plain": [
       "        year               name     type          character    n\n",
       "title                                                           \n",
       "Sleuth  2007  Eve (II) Channing  actress    Marguerite Wyke  NaN\n",
       "Sleuth  1972      Michael Caine    actor        Milo Tindle  2.0\n",
       "Sleuth  1972     Alec Cawthorne    actor  Inspector Doppler  3.0\n",
       "Sleuth  2007    Kenneth Branagh    actor  Other Man on T.V.  NaN\n",
       "Sleuth  2007      Harold Pinter    actor        Man on T.V.  3.0"
      ]
     },
     "execution_count": 24,
     "metadata": {},
     "output_type": "execute_result"
    }
   ],
   "source": [
    "df3 = df2.loc[['Sleuth', '#1 Serial Killer']]\n",
    "df3.head()"
   ]
  },
  {
   "cell_type": "code",
   "execution_count": 25,
   "metadata": {
    "attributes": {
     "classes": [],
     "id": "",
     "n": "25"
    }
   },
   "outputs": [
    {
     "data": {
      "text/html": [
       "<div>\n",
       "<style scoped>\n",
       "    .dataframe tbody tr th:only-of-type {\n",
       "        vertical-align: middle;\n",
       "    }\n",
       "\n",
       "    .dataframe tbody tr th {\n",
       "        vertical-align: top;\n",
       "    }\n",
       "\n",
       "    .dataframe thead th {\n",
       "        text-align: right;\n",
       "    }\n",
       "</style>\n",
       "<table border=\"1\" class=\"dataframe\">\n",
       "  <thead>\n",
       "    <tr style=\"text-align: right;\">\n",
       "      <th></th>\n",
       "      <th>year</th>\n",
       "      <th>name</th>\n",
       "      <th>type</th>\n",
       "      <th>character</th>\n",
       "      <th>n</th>\n",
       "    </tr>\n",
       "    <tr>\n",
       "      <th>title</th>\n",
       "      <th></th>\n",
       "      <th></th>\n",
       "      <th></th>\n",
       "      <th></th>\n",
       "      <th></th>\n",
       "    </tr>\n",
       "  </thead>\n",
       "  <tbody>\n",
       "    <tr>\n",
       "      <th>#1 Serial Killer</th>\n",
       "      <td>2013</td>\n",
       "      <td>Romina Bovolini</td>\n",
       "      <td>actress</td>\n",
       "      <td>Lisa Simpson</td>\n",
       "      <td>14.0</td>\n",
       "    </tr>\n",
       "    <tr>\n",
       "      <th>#1 Serial Killer</th>\n",
       "      <td>2013</td>\n",
       "      <td>Scott Eriksson</td>\n",
       "      <td>actor</td>\n",
       "      <td>Party Guest</td>\n",
       "      <td>NaN</td>\n",
       "    </tr>\n",
       "    <tr>\n",
       "      <th>#1 Serial Killer</th>\n",
       "      <td>2013</td>\n",
       "      <td>Kylee Cochran</td>\n",
       "      <td>actress</td>\n",
       "      <td>Jennifer Griffin</td>\n",
       "      <td>NaN</td>\n",
       "    </tr>\n",
       "    <tr>\n",
       "      <th>#1 Serial Killer</th>\n",
       "      <td>2013</td>\n",
       "      <td>Jesse Wang</td>\n",
       "      <td>actor</td>\n",
       "      <td>Mr. Tsai</td>\n",
       "      <td>11.0</td>\n",
       "    </tr>\n",
       "    <tr>\n",
       "      <th>#1 Serial Killer</th>\n",
       "      <td>2013</td>\n",
       "      <td>Patrick Chien</td>\n",
       "      <td>actor</td>\n",
       "      <td>Cleaver Victim</td>\n",
       "      <td>22.0</td>\n",
       "    </tr>\n",
       "  </tbody>\n",
       "</table>\n",
       "</div>"
      ],
      "text/plain": [
       "                  year             name     type         character     n\n",
       "title                                                                   \n",
       "#1 Serial Killer  2013  Romina Bovolini  actress      Lisa Simpson  14.0\n",
       "#1 Serial Killer  2013   Scott Eriksson    actor       Party Guest   NaN\n",
       "#1 Serial Killer  2013    Kylee Cochran  actress  Jennifer Griffin   NaN\n",
       "#1 Serial Killer  2013       Jesse Wang    actor          Mr. Tsai  11.0\n",
       "#1 Serial Killer  2013    Patrick Chien    actor    Cleaver Victim  22.0"
      ]
     },
     "execution_count": 25,
     "metadata": {},
     "output_type": "execute_result"
    }
   ],
   "source": [
    "df3.tail()"
   ]
  },
  {
   "cell_type": "markdown",
   "metadata": {},
   "source": [
    "### Setting a Multi-index\n",
    "We can also set multiple in a table. We do this by\n",
    "setting the index with an array as follows;"
   ]
  },
  {
   "cell_type": "code",
   "execution_count": 26,
   "metadata": {
    "attributes": {
     "classes": [],
     "id": "",
     "n": "26"
    }
   },
   "outputs": [
    {
     "data": {
      "text/html": [
       "<div>\n",
       "<style scoped>\n",
       "    .dataframe tbody tr th:only-of-type {\n",
       "        vertical-align: middle;\n",
       "    }\n",
       "\n",
       "    .dataframe tbody tr th {\n",
       "        vertical-align: top;\n",
       "    }\n",
       "\n",
       "    .dataframe thead th {\n",
       "        text-align: right;\n",
       "    }\n",
       "</style>\n",
       "<table border=\"1\" class=\"dataframe\">\n",
       "  <thead>\n",
       "    <tr style=\"text-align: right;\">\n",
       "      <th></th>\n",
       "      <th></th>\n",
       "      <th>name</th>\n",
       "      <th>type</th>\n",
       "      <th>character</th>\n",
       "      <th>n</th>\n",
       "    </tr>\n",
       "    <tr>\n",
       "      <th>year</th>\n",
       "      <th>title</th>\n",
       "      <th></th>\n",
       "      <th></th>\n",
       "      <th></th>\n",
       "      <th></th>\n",
       "    </tr>\n",
       "  </thead>\n",
       "  <tbody>\n",
       "    <tr>\n",
       "      <th rowspan=\"3\" valign=\"top\">1894</th>\n",
       "      <th>Miss Jerry</th>\n",
       "      <td>William Courtenay</td>\n",
       "      <td>actor</td>\n",
       "      <td>Mr. Hamilton</td>\n",
       "      <td>NaN</td>\n",
       "    </tr>\n",
       "    <tr>\n",
       "      <th>Miss Jerry</th>\n",
       "      <td>Chauncey Depew</td>\n",
       "      <td>actor</td>\n",
       "      <td>Himself - the Director of the New York Central...</td>\n",
       "      <td>NaN</td>\n",
       "    </tr>\n",
       "    <tr>\n",
       "      <th>Miss Jerry</th>\n",
       "      <td>Blanche Bayliss</td>\n",
       "      <td>actress</td>\n",
       "      <td>Miss Geraldine Holbrook (Miss Jerry)</td>\n",
       "      <td>NaN</td>\n",
       "    </tr>\n",
       "    <tr>\n",
       "      <th rowspan=\"2\" valign=\"top\">1900</th>\n",
       "      <th>Soldiers of the Cross</th>\n",
       "      <td>Orrie Perry</td>\n",
       "      <td>actor</td>\n",
       "      <td>Lion</td>\n",
       "      <td>NaN</td>\n",
       "    </tr>\n",
       "    <tr>\n",
       "      <th>Soldiers of the Cross</th>\n",
       "      <td>Reg Perry</td>\n",
       "      <td>actor</td>\n",
       "      <td>Lion</td>\n",
       "      <td>NaN</td>\n",
       "    </tr>\n",
       "  </tbody>\n",
       "</table>\n",
       "</div>"
      ],
      "text/plain": [
       "                                         name     type  \\\n",
       "year title                                               \n",
       "1894 Miss Jerry             William Courtenay    actor   \n",
       "     Miss Jerry                Chauncey Depew    actor   \n",
       "     Miss Jerry               Blanche Bayliss  actress   \n",
       "1900 Soldiers of the Cross        Orrie Perry    actor   \n",
       "     Soldiers of the Cross          Reg Perry    actor   \n",
       "\n",
       "                                                                    character  \\\n",
       "year title                                                                      \n",
       "1894 Miss Jerry                                                  Mr. Hamilton   \n",
       "     Miss Jerry             Himself - the Director of the New York Central...   \n",
       "     Miss Jerry                          Miss Geraldine Holbrook (Miss Jerry)   \n",
       "1900 Soldiers of the Cross                                               Lion   \n",
       "     Soldiers of the Cross                                               Lion   \n",
       "\n",
       "                             n  \n",
       "year title                      \n",
       "1894 Miss Jerry            NaN  \n",
       "     Miss Jerry            NaN  \n",
       "     Miss Jerry            NaN  \n",
       "1900 Soldiers of the Cross NaN  \n",
       "     Soldiers of the Cross NaN  "
      ]
     },
     "execution_count": 26,
     "metadata": {},
     "output_type": "execute_result"
    }
   ],
   "source": [
    "df4 = df.set_index(['year', 'title']).sort_index()\n",
    "df4.head()"
   ]
  },
  {
   "cell_type": "markdown",
   "metadata": {},
   "source": [
    "With that in place, we can access the indexes in the order that we have\n",
    "specified them in `set_index` above;"
   ]
  },
  {
   "cell_type": "code",
   "execution_count": 27,
   "metadata": {
    "attributes": {
     "classes": [],
     "id": "",
     "n": "27"
    }
   },
   "outputs": [
    {
     "data": {
      "text/html": [
       "<div>\n",
       "<style scoped>\n",
       "    .dataframe tbody tr th:only-of-type {\n",
       "        vertical-align: middle;\n",
       "    }\n",
       "\n",
       "    .dataframe tbody tr th {\n",
       "        vertical-align: top;\n",
       "    }\n",
       "\n",
       "    .dataframe thead th {\n",
       "        text-align: right;\n",
       "    }\n",
       "</style>\n",
       "<table border=\"1\" class=\"dataframe\">\n",
       "  <thead>\n",
       "    <tr style=\"text-align: right;\">\n",
       "      <th></th>\n",
       "      <th>name</th>\n",
       "      <th>type</th>\n",
       "      <th>character</th>\n",
       "      <th>n</th>\n",
       "    </tr>\n",
       "    <tr>\n",
       "      <th>title</th>\n",
       "      <th></th>\n",
       "      <th></th>\n",
       "      <th></th>\n",
       "      <th></th>\n",
       "    </tr>\n",
       "  </thead>\n",
       "  <tbody>\n",
       "    <tr>\n",
       "      <th>#1 Serial Killer</th>\n",
       "      <td>Michael Alton</td>\n",
       "      <td>actor</td>\n",
       "      <td>Detective Roberts</td>\n",
       "      <td>17.0</td>\n",
       "    </tr>\n",
       "    <tr>\n",
       "      <th>#1 Serial Killer</th>\n",
       "      <td>Aaron Aoki</td>\n",
       "      <td>actor</td>\n",
       "      <td>Plastic Bag Victim</td>\n",
       "      <td>21.0</td>\n",
       "    </tr>\n",
       "    <tr>\n",
       "      <th>#1 Serial Killer</th>\n",
       "      <td>Zachary (X) Brown</td>\n",
       "      <td>actor</td>\n",
       "      <td>Africian American Teen</td>\n",
       "      <td>18.0</td>\n",
       "    </tr>\n",
       "    <tr>\n",
       "      <th>#1 Serial Killer</th>\n",
       "      <td>Yvis Cannavale</td>\n",
       "      <td>actor</td>\n",
       "      <td>Homeless Man</td>\n",
       "      <td>25.0</td>\n",
       "    </tr>\n",
       "    <tr>\n",
       "      <th>#1 Serial Killer</th>\n",
       "      <td>Patrick Chien</td>\n",
       "      <td>actor</td>\n",
       "      <td>Cleaver Victim</td>\n",
       "      <td>22.0</td>\n",
       "    </tr>\n",
       "  </tbody>\n",
       "</table>\n",
       "</div>"
      ],
      "text/plain": [
       "                               name   type               character     n\n",
       "title                                                                   \n",
       "#1 Serial Killer      Michael Alton  actor       Detective Roberts  17.0\n",
       "#1 Serial Killer         Aaron Aoki  actor      Plastic Bag Victim  21.0\n",
       "#1 Serial Killer  Zachary (X) Brown  actor  Africian American Teen  18.0\n",
       "#1 Serial Killer     Yvis Cannavale  actor            Homeless Man  25.0\n",
       "#1 Serial Killer      Patrick Chien  actor          Cleaver Victim  22.0"
      ]
     },
     "execution_count": 27,
     "metadata": {},
     "output_type": "execute_result"
    }
   ],
   "source": [
    "df5 = df4.loc[2013]\n",
    "df5.head()"
   ]
  },
  {
   "cell_type": "markdown",
   "metadata": {},
   "source": [
    "Indexing with the second index. We have to execute `loc` again as the first\n",
    "`loc` returns yet another dataframe;"
   ]
  },
  {
   "cell_type": "code",
   "execution_count": 28,
   "metadata": {
    "attributes": {
     "classes": [],
     "id": "",
     "n": "28"
    }
   },
   "outputs": [
    {
     "data": {
      "text/html": [
       "<div>\n",
       "<style scoped>\n",
       "    .dataframe tbody tr th:only-of-type {\n",
       "        vertical-align: middle;\n",
       "    }\n",
       "\n",
       "    .dataframe tbody tr th {\n",
       "        vertical-align: top;\n",
       "    }\n",
       "\n",
       "    .dataframe thead th {\n",
       "        text-align: right;\n",
       "    }\n",
       "</style>\n",
       "<table border=\"1\" class=\"dataframe\">\n",
       "  <thead>\n",
       "    <tr style=\"text-align: right;\">\n",
       "      <th></th>\n",
       "      <th>name</th>\n",
       "      <th>type</th>\n",
       "      <th>character</th>\n",
       "      <th>n</th>\n",
       "    </tr>\n",
       "    <tr>\n",
       "      <th>title</th>\n",
       "      <th></th>\n",
       "      <th></th>\n",
       "      <th></th>\n",
       "      <th></th>\n",
       "    </tr>\n",
       "  </thead>\n",
       "  <tbody>\n",
       "    <tr>\n",
       "      <th>48 minuten</th>\n",
       "      <td>Rogier in 't Hout</td>\n",
       "      <td>actor</td>\n",
       "      <td>Willem</td>\n",
       "      <td>NaN</td>\n",
       "    </tr>\n",
       "    <tr>\n",
       "      <th>48 minuten</th>\n",
       "      <td>Raynor Arkenbout</td>\n",
       "      <td>actor</td>\n",
       "      <td>Docent</td>\n",
       "      <td>NaN</td>\n",
       "    </tr>\n",
       "    <tr>\n",
       "      <th>48 minuten</th>\n",
       "      <td>Cas Basstiaans</td>\n",
       "      <td>actor</td>\n",
       "      <td>Tom</td>\n",
       "      <td>NaN</td>\n",
       "    </tr>\n",
       "    <tr>\n",
       "      <th>48 minuten</th>\n",
       "      <td>Everon Jackson Hooi</td>\n",
       "      <td>actor</td>\n",
       "      <td>Patrick</td>\n",
       "      <td>NaN</td>\n",
       "    </tr>\n",
       "    <tr>\n",
       "      <th>48 minuten</th>\n",
       "      <td>Sergio IJssel</td>\n",
       "      <td>actor</td>\n",
       "      <td>John</td>\n",
       "      <td>NaN</td>\n",
       "    </tr>\n",
       "  </tbody>\n",
       "</table>\n",
       "</div>"
      ],
      "text/plain": [
       "                           name   type character   n\n",
       "title                                               \n",
       "48 minuten    Rogier in 't Hout  actor    Willem NaN\n",
       "48 minuten     Raynor Arkenbout  actor    Docent NaN\n",
       "48 minuten       Cas Basstiaans  actor       Tom NaN\n",
       "48 minuten  Everon Jackson Hooi  actor   Patrick NaN\n",
       "48 minuten        Sergio IJssel  actor      John NaN"
      ]
     },
     "execution_count": 28,
     "metadata": {},
     "output_type": "execute_result"
    }
   ],
   "source": [
    "df5 = df5.loc['48 minuten']\n",
    "df5.head()"
   ]
  },
  {
   "cell_type": "markdown",
   "metadata": {},
   "source": [
    "A better approach would be to pass a tuple in the loc indexer;"
   ]
  },
  {
   "cell_type": "code",
   "execution_count": 29,
   "metadata": {
    "attributes": {
     "classes": [],
     "id": "",
     "n": "29"
    }
   },
   "outputs": [
    {
     "data": {
      "text/html": [
       "<div>\n",
       "<style scoped>\n",
       "    .dataframe tbody tr th:only-of-type {\n",
       "        vertical-align: middle;\n",
       "    }\n",
       "\n",
       "    .dataframe tbody tr th {\n",
       "        vertical-align: top;\n",
       "    }\n",
       "\n",
       "    .dataframe thead th {\n",
       "        text-align: right;\n",
       "    }\n",
       "</style>\n",
       "<table border=\"1\" class=\"dataframe\">\n",
       "  <thead>\n",
       "    <tr style=\"text-align: right;\">\n",
       "      <th></th>\n",
       "      <th></th>\n",
       "      <th>name</th>\n",
       "      <th>type</th>\n",
       "      <th>character</th>\n",
       "      <th>n</th>\n",
       "    </tr>\n",
       "    <tr>\n",
       "      <th>year</th>\n",
       "      <th>title</th>\n",
       "      <th></th>\n",
       "      <th></th>\n",
       "      <th></th>\n",
       "      <th></th>\n",
       "    </tr>\n",
       "  </thead>\n",
       "  <tbody>\n",
       "    <tr>\n",
       "      <th rowspan=\"5\" valign=\"top\">2013</th>\n",
       "      <th>48 minuten</th>\n",
       "      <td>Rogier in 't Hout</td>\n",
       "      <td>actor</td>\n",
       "      <td>Willem</td>\n",
       "      <td>NaN</td>\n",
       "    </tr>\n",
       "    <tr>\n",
       "      <th>48 minuten</th>\n",
       "      <td>Raynor Arkenbout</td>\n",
       "      <td>actor</td>\n",
       "      <td>Docent</td>\n",
       "      <td>NaN</td>\n",
       "    </tr>\n",
       "    <tr>\n",
       "      <th>48 minuten</th>\n",
       "      <td>Cas Basstiaans</td>\n",
       "      <td>actor</td>\n",
       "      <td>Tom</td>\n",
       "      <td>NaN</td>\n",
       "    </tr>\n",
       "    <tr>\n",
       "      <th>48 minuten</th>\n",
       "      <td>Everon Jackson Hooi</td>\n",
       "      <td>actor</td>\n",
       "      <td>Patrick</td>\n",
       "      <td>NaN</td>\n",
       "    </tr>\n",
       "    <tr>\n",
       "      <th>48 minuten</th>\n",
       "      <td>Sergio IJssel</td>\n",
       "      <td>actor</td>\n",
       "      <td>John</td>\n",
       "      <td>NaN</td>\n",
       "    </tr>\n",
       "  </tbody>\n",
       "</table>\n",
       "</div>"
      ],
      "text/plain": [
       "                                name   type character   n\n",
       "year title                                               \n",
       "2013 48 minuten    Rogier in 't Hout  actor    Willem NaN\n",
       "     48 minuten     Raynor Arkenbout  actor    Docent NaN\n",
       "     48 minuten       Cas Basstiaans  actor       Tom NaN\n",
       "     48 minuten  Everon Jackson Hooi  actor   Patrick NaN\n",
       "     48 minuten        Sergio IJssel  actor      John NaN"
      ]
     },
     "execution_count": 29,
     "metadata": {},
     "output_type": "execute_result"
    }
   ],
   "source": [
    "df5 = df4.loc[(2013, '48 minuten')]\n",
    "df5.head()"
   ]
  },
  {
   "cell_type": "markdown",
   "metadata": {},
   "source": [
    "On a dataframe that has multi index, we can conviniently reset desired columns\n",
    "from the index using `reset_index` as follows;"
   ]
  },
  {
   "cell_type": "code",
   "execution_count": 30,
   "metadata": {
    "attributes": {
     "classes": [],
     "id": "",
     "n": "30"
    }
   },
   "outputs": [
    {
     "data": {
      "text/html": [
       "<div>\n",
       "<style scoped>\n",
       "    .dataframe tbody tr th:only-of-type {\n",
       "        vertical-align: middle;\n",
       "    }\n",
       "\n",
       "    .dataframe tbody tr th {\n",
       "        vertical-align: top;\n",
       "    }\n",
       "\n",
       "    .dataframe thead th {\n",
       "        text-align: right;\n",
       "    }\n",
       "</style>\n",
       "<table border=\"1\" class=\"dataframe\">\n",
       "  <thead>\n",
       "    <tr style=\"text-align: right;\">\n",
       "      <th></th>\n",
       "      <th>year</th>\n",
       "      <th>name</th>\n",
       "      <th>type</th>\n",
       "      <th>character</th>\n",
       "      <th>n</th>\n",
       "    </tr>\n",
       "    <tr>\n",
       "      <th>title</th>\n",
       "      <th></th>\n",
       "      <th></th>\n",
       "      <th></th>\n",
       "      <th></th>\n",
       "      <th></th>\n",
       "    </tr>\n",
       "  </thead>\n",
       "  <tbody>\n",
       "    <tr>\n",
       "      <th>48 minuten</th>\n",
       "      <td>2013</td>\n",
       "      <td>Rogier in 't Hout</td>\n",
       "      <td>actor</td>\n",
       "      <td>Willem</td>\n",
       "      <td>NaN</td>\n",
       "    </tr>\n",
       "    <tr>\n",
       "      <th>48 minuten</th>\n",
       "      <td>2013</td>\n",
       "      <td>Raynor Arkenbout</td>\n",
       "      <td>actor</td>\n",
       "      <td>Docent</td>\n",
       "      <td>NaN</td>\n",
       "    </tr>\n",
       "    <tr>\n",
       "      <th>48 minuten</th>\n",
       "      <td>2013</td>\n",
       "      <td>Cas Basstiaans</td>\n",
       "      <td>actor</td>\n",
       "      <td>Tom</td>\n",
       "      <td>NaN</td>\n",
       "    </tr>\n",
       "    <tr>\n",
       "      <th>48 minuten</th>\n",
       "      <td>2013</td>\n",
       "      <td>Everon Jackson Hooi</td>\n",
       "      <td>actor</td>\n",
       "      <td>Patrick</td>\n",
       "      <td>NaN</td>\n",
       "    </tr>\n",
       "    <tr>\n",
       "      <th>48 minuten</th>\n",
       "      <td>2013</td>\n",
       "      <td>Sergio IJssel</td>\n",
       "      <td>actor</td>\n",
       "      <td>John</td>\n",
       "      <td>NaN</td>\n",
       "    </tr>\n",
       "  </tbody>\n",
       "</table>\n",
       "</div>"
      ],
      "text/plain": [
       "            year                 name   type character   n\n",
       "title                                                     \n",
       "48 minuten  2013    Rogier in 't Hout  actor    Willem NaN\n",
       "48 minuten  2013     Raynor Arkenbout  actor    Docent NaN\n",
       "48 minuten  2013       Cas Basstiaans  actor       Tom NaN\n",
       "48 minuten  2013  Everon Jackson Hooi  actor   Patrick NaN\n",
       "48 minuten  2013        Sergio IJssel  actor      John NaN"
      ]
     },
     "execution_count": 30,
     "metadata": {},
     "output_type": "execute_result"
    }
   ],
   "source": [
    "df5.reset_index('year').head()\n",
    "# This is going to remove `year` from the index and leave title"
   ]
  },
  {
   "cell_type": "markdown",
   "metadata": {},
   "source": [
    "We can also reset multiple indexes by supplying an array to `reset_index`;"
   ]
  },
  {
   "cell_type": "code",
   "execution_count": 31,
   "metadata": {
    "attributes": {
     "classes": [],
     "id": "",
     "n": "31"
    }
   },
   "outputs": [
    {
     "data": {
      "text/html": [
       "<div>\n",
       "<style scoped>\n",
       "    .dataframe tbody tr th:only-of-type {\n",
       "        vertical-align: middle;\n",
       "    }\n",
       "\n",
       "    .dataframe tbody tr th {\n",
       "        vertical-align: top;\n",
       "    }\n",
       "\n",
       "    .dataframe thead th {\n",
       "        text-align: right;\n",
       "    }\n",
       "</style>\n",
       "<table border=\"1\" class=\"dataframe\">\n",
       "  <thead>\n",
       "    <tr style=\"text-align: right;\">\n",
       "      <th></th>\n",
       "      <th>year</th>\n",
       "      <th>title</th>\n",
       "      <th>name</th>\n",
       "      <th>type</th>\n",
       "      <th>character</th>\n",
       "      <th>n</th>\n",
       "    </tr>\n",
       "  </thead>\n",
       "  <tbody>\n",
       "    <tr>\n",
       "      <th>0</th>\n",
       "      <td>2013</td>\n",
       "      <td>48 minuten</td>\n",
       "      <td>Rogier in 't Hout</td>\n",
       "      <td>actor</td>\n",
       "      <td>Willem</td>\n",
       "      <td>NaN</td>\n",
       "    </tr>\n",
       "    <tr>\n",
       "      <th>1</th>\n",
       "      <td>2013</td>\n",
       "      <td>48 minuten</td>\n",
       "      <td>Raynor Arkenbout</td>\n",
       "      <td>actor</td>\n",
       "      <td>Docent</td>\n",
       "      <td>NaN</td>\n",
       "    </tr>\n",
       "    <tr>\n",
       "      <th>2</th>\n",
       "      <td>2013</td>\n",
       "      <td>48 minuten</td>\n",
       "      <td>Cas Basstiaans</td>\n",
       "      <td>actor</td>\n",
       "      <td>Tom</td>\n",
       "      <td>NaN</td>\n",
       "    </tr>\n",
       "    <tr>\n",
       "      <th>3</th>\n",
       "      <td>2013</td>\n",
       "      <td>48 minuten</td>\n",
       "      <td>Everon Jackson Hooi</td>\n",
       "      <td>actor</td>\n",
       "      <td>Patrick</td>\n",
       "      <td>NaN</td>\n",
       "    </tr>\n",
       "    <tr>\n",
       "      <th>4</th>\n",
       "      <td>2013</td>\n",
       "      <td>48 minuten</td>\n",
       "      <td>Sergio IJssel</td>\n",
       "      <td>actor</td>\n",
       "      <td>John</td>\n",
       "      <td>NaN</td>\n",
       "    </tr>\n",
       "  </tbody>\n",
       "</table>\n",
       "</div>"
      ],
      "text/plain": [
       "   year       title                 name   type character   n\n",
       "0  2013  48 minuten    Rogier in 't Hout  actor    Willem NaN\n",
       "1  2013  48 minuten     Raynor Arkenbout  actor    Docent NaN\n",
       "2  2013  48 minuten       Cas Basstiaans  actor       Tom NaN\n",
       "3  2013  48 minuten  Everon Jackson Hooi  actor   Patrick NaN\n",
       "4  2013  48 minuten        Sergio IJssel  actor      John NaN"
      ]
     },
     "execution_count": 31,
     "metadata": {},
     "output_type": "execute_result"
    }
   ],
   "source": [
    "df5.reset_index(['year', 'title']).head()"
   ]
  },
  {
   "cell_type": "markdown",
   "metadata": {},
   "source": [
    "Removing all indexes will result to a zero-initialised default index.\n",
    "\n",
    "##\n",
    "Grouping in a Pandas Dataframe\n",
    "This is very useful when doing aggregations."
   ]
  },
  {
   "cell_type": "code",
   "execution_count": 32,
   "metadata": {
    "attributes": {
     "classes": [],
     "id": "",
     "n": "32"
    }
   },
   "outputs": [
    {
     "data": {
      "text/html": [
       "<div>\n",
       "<style scoped>\n",
       "    .dataframe tbody tr th:only-of-type {\n",
       "        vertical-align: middle;\n",
       "    }\n",
       "\n",
       "    .dataframe tbody tr th {\n",
       "        vertical-align: top;\n",
       "    }\n",
       "\n",
       "    .dataframe thead th {\n",
       "        text-align: right;\n",
       "    }\n",
       "</style>\n",
       "<table border=\"1\" class=\"dataframe\">\n",
       "  <thead>\n",
       "    <tr style=\"text-align: right;\">\n",
       "      <th></th>\n",
       "      <th>title</th>\n",
       "      <th>year</th>\n",
       "      <th>name</th>\n",
       "      <th>type</th>\n",
       "      <th>character</th>\n",
       "      <th>n</th>\n",
       "    </tr>\n",
       "  </thead>\n",
       "  <tbody>\n",
       "    <tr>\n",
       "      <th>0</th>\n",
       "      <td>Closet Monster</td>\n",
       "      <td>2015</td>\n",
       "      <td>Buffy #1</td>\n",
       "      <td>actor</td>\n",
       "      <td>Buffy 4</td>\n",
       "      <td>31.0</td>\n",
       "    </tr>\n",
       "    <tr>\n",
       "      <th>1</th>\n",
       "      <td>Suuri illusioni</td>\n",
       "      <td>1985</td>\n",
       "      <td>Homo $</td>\n",
       "      <td>actor</td>\n",
       "      <td>Guests</td>\n",
       "      <td>22.0</td>\n",
       "    </tr>\n",
       "    <tr>\n",
       "      <th>2</th>\n",
       "      <td>Battle of the Sexes</td>\n",
       "      <td>2017</td>\n",
       "      <td>$hutter</td>\n",
       "      <td>actor</td>\n",
       "      <td>Bobby Riggs Fan</td>\n",
       "      <td>10.0</td>\n",
       "    </tr>\n",
       "    <tr>\n",
       "      <th>3</th>\n",
       "      <td>Secret in Their Eyes</td>\n",
       "      <td>2015</td>\n",
       "      <td>$hutter</td>\n",
       "      <td>actor</td>\n",
       "      <td>2002 Dodger Fan</td>\n",
       "      <td>NaN</td>\n",
       "    </tr>\n",
       "    <tr>\n",
       "      <th>4</th>\n",
       "      <td>Steve Jobs</td>\n",
       "      <td>2015</td>\n",
       "      <td>$hutter</td>\n",
       "      <td>actor</td>\n",
       "      <td>1988 Opera House Patron</td>\n",
       "      <td>NaN</td>\n",
       "    </tr>\n",
       "  </tbody>\n",
       "</table>\n",
       "</div>"
      ],
      "text/plain": [
       "                  title  year      name   type                character     n\n",
       "0        Closet Monster  2015  Buffy #1  actor                  Buffy 4  31.0\n",
       "1       Suuri illusioni  1985    Homo $  actor                   Guests  22.0\n",
       "2   Battle of the Sexes  2017   $hutter  actor          Bobby Riggs Fan  10.0\n",
       "3  Secret in Their Eyes  2015   $hutter  actor          2002 Dodger Fan   NaN\n",
       "4            Steve Jobs  2015   $hutter  actor  1988 Opera House Patron   NaN"
      ]
     },
     "execution_count": 32,
     "metadata": {},
     "output_type": "execute_result"
    }
   ],
   "source": [
    "df.head()"
   ]
  },
  {
   "cell_type": "markdown",
   "metadata": {},
   "source": [
    "For a start, we can group by a column as follows;"
   ]
  },
  {
   "cell_type": "code",
   "execution_count": 33,
   "metadata": {
    "attributes": {
     "classes": [],
     "id": "",
     "n": "33"
    }
   },
   "outputs": [
    {
     "data": {
      "text/plain": [
       "year\n",
       "1894     3\n",
       "1900     2\n",
       "1905     1\n",
       "1906    17\n",
       "1907     5\n",
       "dtype: int64"
      ]
     },
     "execution_count": 33,
     "metadata": {},
     "output_type": "execute_result"
    }
   ],
   "source": [
    "df6 = df.groupby('year').size()\n",
    "df6.head()"
   ]
  },
  {
   "cell_type": "markdown",
   "metadata": {},
   "source": [
    "Whenever we do a groupby on an dataframe in pandas, we set up an index with the\n",
    "groupby property. i.e. in the above example, we will now have an index created\n",
    "with the year property.\n",
    "\n",
    "We can also group by multiple properties by suppling an\n",
    "array to the groupby method;"
   ]
  },
  {
   "cell_type": "code",
   "execution_count": 34,
   "metadata": {
    "attributes": {
     "classes": [],
     "id": "",
     "n": "34"
    }
   },
   "outputs": [
    {
     "data": {
      "text/plain": [
       "title             character             \n",
       "#1 Serial Killer  Africian American Teen    1\n",
       "                  Amber Sterling            1\n",
       "                  Betty Goodman             1\n",
       "                  Brian Bennett             1\n",
       "                  Cathherine                1\n",
       "dtype: int64"
      ]
     },
     "execution_count": 34,
     "metadata": {},
     "output_type": "execute_result"
    }
   ],
   "source": [
    "df7 = df.groupby(['title', 'character']).size()\n",
    "df7.head()"
   ]
  },
  {
   "cell_type": "markdown",
   "metadata": {},
   "source": [
    "This ☝ is going to create a hierarchical multi index with title and year in that\n",
    "order. Before grouping the data, it's often paramount that we filter the rows to\n",
    "narrow our focus to only the items that we're interested in. For instance, we\n",
    "can begin by filtering out the cast for a certain `name` e.g. Emmett Vogan as\n",
    "follows;"
   ]
  },
  {
   "cell_type": "code",
   "execution_count": 35,
   "metadata": {
    "attributes": {
     "classes": [],
     "id": "",
     "n": "35"
    }
   },
   "outputs": [
    {
     "data": {
      "text/html": [
       "<div>\n",
       "<style scoped>\n",
       "    .dataframe tbody tr th:only-of-type {\n",
       "        vertical-align: middle;\n",
       "    }\n",
       "\n",
       "    .dataframe tbody tr th {\n",
       "        vertical-align: top;\n",
       "    }\n",
       "\n",
       "    .dataframe thead th {\n",
       "        text-align: right;\n",
       "    }\n",
       "</style>\n",
       "<table border=\"1\" class=\"dataframe\">\n",
       "  <thead>\n",
       "    <tr style=\"text-align: right;\">\n",
       "      <th></th>\n",
       "      <th>title</th>\n",
       "      <th>year</th>\n",
       "      <th>name</th>\n",
       "      <th>type</th>\n",
       "      <th>character</th>\n",
       "      <th>n</th>\n",
       "    </tr>\n",
       "  </thead>\n",
       "  <tbody>\n",
       "    <tr>\n",
       "      <th>2370255</th>\n",
       "      <td>$1000 a Touchdown</td>\n",
       "      <td>1939</td>\n",
       "      <td>Emmett Vogan</td>\n",
       "      <td>actor</td>\n",
       "      <td>Coach</td>\n",
       "      <td>NaN</td>\n",
       "    </tr>\n",
       "    <tr>\n",
       "      <th>2370256</th>\n",
       "      <td>'G' Men</td>\n",
       "      <td>1935</td>\n",
       "      <td>Emmett Vogan</td>\n",
       "      <td>actor</td>\n",
       "      <td>Bill - the Ballistics Expert</td>\n",
       "      <td>NaN</td>\n",
       "    </tr>\n",
       "    <tr>\n",
       "      <th>2370257</th>\n",
       "      <td>45 Fathers</td>\n",
       "      <td>1937</td>\n",
       "      <td>Emmett Vogan</td>\n",
       "      <td>actor</td>\n",
       "      <td>Court Clerk</td>\n",
       "      <td>NaN</td>\n",
       "    </tr>\n",
       "    <tr>\n",
       "      <th>2370258</th>\n",
       "      <td>A Close Call for Boston Blackie</td>\n",
       "      <td>1946</td>\n",
       "      <td>Emmett Vogan</td>\n",
       "      <td>actor</td>\n",
       "      <td>Coroner</td>\n",
       "      <td>NaN</td>\n",
       "    </tr>\n",
       "    <tr>\n",
       "      <th>2370259</th>\n",
       "      <td>A Fig Leaf for Eve</td>\n",
       "      <td>1944</td>\n",
       "      <td>Emmett Vogan</td>\n",
       "      <td>actor</td>\n",
       "      <td>Thomas W. Campbell - Attorney</td>\n",
       "      <td>5.0</td>\n",
       "    </tr>\n",
       "  </tbody>\n",
       "</table>\n",
       "</div>"
      ],
      "text/plain": [
       "                                   title  year          name   type  \\\n",
       "2370255                $1000 a Touchdown  1939  Emmett Vogan  actor   \n",
       "2370256                          'G' Men  1935  Emmett Vogan  actor   \n",
       "2370257                       45 Fathers  1937  Emmett Vogan  actor   \n",
       "2370258  A Close Call for Boston Blackie  1946  Emmett Vogan  actor   \n",
       "2370259               A Fig Leaf for Eve  1944  Emmett Vogan  actor   \n",
       "\n",
       "                             character    n  \n",
       "2370255                          Coach  NaN  \n",
       "2370256   Bill - the Ballistics Expert  NaN  \n",
       "2370257                    Court Clerk  NaN  \n",
       "2370258                        Coroner  NaN  \n",
       "2370259  Thomas W. Campbell - Attorney  5.0  "
      ]
     },
     "execution_count": 35,
     "metadata": {},
     "output_type": "execute_result"
    }
   ],
   "source": [
    "df7 = df[df.name == 'Emmett Vogan']\n",
    "df7.head()"
   ]
  },
  {
   "cell_type": "markdown",
   "metadata": {},
   "source": [
    "We can now do an analysis focusing on Emmett Vogan. For instance we may be\n",
    "interested in seeing the count of occurences per year. i.e. we need to  group\n",
    "the filtered data and then use size as the group accumulator. Check it out;"
   ]
  },
  {
   "cell_type": "code",
   "execution_count": 36,
   "metadata": {
    "attributes": {
     "classes": [],
     "id": "",
     "n": "36"
    }
   },
   "outputs": [
    {
     "data": {
      "text/plain": [
       "year\n",
       "1934    14\n",
       "1935    25\n",
       "1936    30\n",
       "1937    28\n",
       "1938    24\n",
       "1939    33\n",
       "1940    27\n",
       "1941    32\n",
       "1942    32\n",
       "1943    27\n",
       "1944    36\n",
       "1945    39\n",
       "1946    26\n",
       "1947    20\n",
       "1948    15\n",
       "1949    14\n",
       "1950     2\n",
       "1951     9\n",
       "1952     7\n",
       "1953     6\n",
       "1954     3\n",
       "1956     1\n",
       "dtype: int64"
      ]
     },
     "execution_count": 36,
     "metadata": {},
     "output_type": "execute_result"
    }
   ],
   "source": [
    "df7.groupby(['year']).size()\n",
    "# this accumulates similar years by size i.e. count"
   ]
  },
  {
   "cell_type": "markdown",
   "metadata": {},
   "source": [
    "### Group Accumulators\n",
    "Besides size we can use more accumulators on the groupby\n",
    "object. For instance, we can use;\n",
    "- max and min\n",
    "- sum, product, etc\n",
    "- mean,\n",
    "median, mode, std etc.\n",
    "\n",
    "We do not have to perform the accumulation directly on\n",
    "the groupby object. We can perform accumulations on properties of the dataframe.\n",
    "For instance, the column `n` denoting the ranking of the character in the movie,\n",
    "we can see poorest ranking for Emmett Vogan in each year by grouping the data by\n",
    "year and then using the `max` accumulator on column `n`."
   ]
  },
  {
   "cell_type": "code",
   "execution_count": 37,
   "metadata": {
    "attributes": {
     "classes": [],
     "id": "",
     "n": "37"
    }
   },
   "outputs": [
    {
     "data": {
      "text/plain": [
       "year\n",
       "1934    10.0\n",
       "1935     NaN\n",
       "1936    29.0\n",
       "1937    12.0\n",
       "1938    27.0\n",
       "1939    18.0\n",
       "1940    29.0\n",
       "1941    16.0\n",
       "1942    16.0\n",
       "1943    24.0\n",
       "1944    18.0\n",
       "1945    13.0\n",
       "1946    22.0\n",
       "1947    10.0\n",
       "1948    14.0\n",
       "1949    18.0\n",
       "1950    11.0\n",
       "1951    10.0\n",
       "1952    19.0\n",
       "1953     9.0\n",
       "1954     NaN\n",
       "1956     NaN\n",
       "Name: n, dtype: float64"
      ]
     },
     "execution_count": 37,
     "metadata": {},
     "output_type": "execute_result"
    }
   ],
   "source": [
    "df7.groupby(['year'])['n'].max() # we can also do .n.max()"
   ]
  },
  {
   "cell_type": "markdown",
   "metadata": {},
   "source": [
    "We are also not limited to use only existing properties to groupby. We can\n",
    "actually use dynamically computed values against which to group the data. For\n",
    "instance, instead of grouping by the year as above, we may be interested in\n",
    "grouping by the decade which is a property that does not exist on the dataframe.\n",
    "This can be dynamically computed from the year as;\n",
    "\n",
    "$$\n",
    "  decade =\n",
    "\\lfloor\\frac{year}{10}\\rfloor \\cdot 10\n",
    "$$\n",
    "\n",
    "That is the floor division of the\n",
    "year by 10 and multiply the result by 10."
   ]
  },
  {
   "cell_type": "code",
   "execution_count": 38,
   "metadata": {
    "attributes": {
     "classes": [],
     "id": "",
     "n": "38"
    }
   },
   "outputs": [
    {
     "data": {
      "text/plain": [
       "year\n",
       "1930    29.0\n",
       "1940    29.0\n",
       "1950    19.0\n",
       "Name: n, dtype: float64"
      ]
     },
     "execution_count": 38,
     "metadata": {},
     "output_type": "execute_result"
    }
   ],
   "source": [
    "decades = (df7.year // 10) * 10;\n",
    "df7.groupby([decades]).n.max()"
   ]
  },
  {
   "cell_type": "markdown",
   "metadata": {},
   "source": [
    "## Unstacking and stacking indexes\n",
    "Sometimes we may want to transform a vertical\n",
    "index into a horizontal index in order to compare the values as columns.\n",
    "Consider a scenario where we'd like to get the difference between the total\n",
    "number of actors and actresses in each decade. We'd proceed by grouping the data\n",
    "by decades and by the `type` attribute of the data. This would result into a\n",
    "Series with decade and type indexes."
   ]
  },
  {
   "cell_type": "code",
   "execution_count": 39,
   "metadata": {
    "attributes": {
     "classes": [],
     "id": "",
     "n": "39"
    }
   },
   "outputs": [
    {
     "data": {
      "text/plain": [
       "year  type   \n",
       "1890  actor           2\n",
       "      actress         1\n",
       "1900  actor          54\n",
       "      actress        16\n",
       "1910  actor       27605\n",
       "      actress     15830\n",
       "1920  actor       48726\n",
       "      actress     24075\n",
       "1930  actor      151290\n",
       "      actress     49972\n",
       "1940  actor      162364\n",
       "      actress     51795\n",
       "1950  actor      157738\n",
       "      actress     57733\n",
       "1960  actor      134605\n",
       "      actress     57744\n",
       "1970  actor      152811\n",
       "      actress     66974\n",
       "1980  actor      197530\n",
       "      actress     91509\n",
       "1990  actor      263000\n",
       "      actress    125040\n",
       "2000  actor      489468\n",
       "      actress    263941\n",
       "2010  actor      747346\n",
       "      actress    448737\n",
       "2020  actor         140\n",
       "      actress       127\n",
       "2110  actor           2\n",
       "      actress         1\n",
       "dtype: int64"
      ]
     },
     "execution_count": 39,
     "metadata": {},
     "output_type": "execute_result"
    }
   ],
   "source": [
    "df8 = df\n",
    "decades = (df8.year // 10) * 10\n",
    "gr = df8.groupby(['type', decades]).size()\n",
    "gr"
   ]
  },
  {
   "cell_type": "markdown",
   "metadata": {},
   "source": [
    "In order to get the differences, we'd like to put them side by side. The\n",
    "operation to achieve this is to `unstack` the `type` index to the horizontal\n",
    "index."
   ]
  },
  {
   "cell_type": "code",
   "execution_count": null,
   "metadata": {},
   "outputs": [],
   "source": [
    "u = gr.unstack()\n",
    "u"
   ]
  },
  {
   "cell_type": "markdown",
   "metadata": {},
   "source": [
    "As we can see above, `unstack`, by default, takes the innermost vertical index\n",
    "and moves it to the horizontal index. In our case, this is not the behaviour\n",
    "that we'd like, nor is it the output that we desire. We're looking to move the\n",
    "`type` to the horzontal index. We can do that by specifying the integer index of\n",
    "the index we're targeting and this is 0 for `type`. Alternatively, we can\n",
    "specify the index by name i.e. `type`."
   ]
  },
  {
   "cell_type": "code",
   "execution_count": null,
   "metadata": {},
   "outputs": [],
   "source": [
    "u = gr.unstack('type') # unstack(0)\n",
    "u"
   ]
  },
  {
   "cell_type": "markdown",
   "metadata": {},
   "source": [
    "Most of the time, an `unstack` operation leads to having some columns with the\n",
    "value `NaN` when pandas can not determine a value to put in a particular cell.\n",
    "We can use the `fillna()` method to fill the unavailable values with an\n",
    "arbitrary value e.g. the mean, a random, a string like 'hello', etc.\n",
    "\n",
    "The\n",
    "operation `unstack` has the opposite of it called, `stack`.\n",
    "\n",
    "Let us see how we\n",
    "can see the difference between the number of actors and the actresses in a\n",
    "decade;"
   ]
  },
  {
   "cell_type": "code",
   "execution_count": null,
   "metadata": {},
   "outputs": [],
   "source": [
    "diff = u.actor - u.actress\n",
    "diff"
   ]
  },
  {
   "cell_type": "markdown",
   "metadata": {},
   "source": [
    "### An example\n",
    "#### The problem\n",
    "**Imagine we have our cast data, and we'd like\n",
    "to  get the fraction of type `actress` in each `year` for each cast ranking\n",
    "(`n`) for n=1 through n=4. (We can produce a plot for this).**\n",
    "\n",
    "#### The\n",
    "solution\n",
    "The first thing we'd like to do is to focus our concentration on the\n",
    "section of data of interest. This is the  slice of data that has `n <= 4`"
   ]
  },
  {
   "cell_type": "code",
   "execution_count": null,
   "metadata": {},
   "outputs": [],
   "source": [
    "df_slice_n = df[df.n <= 4]\n",
    "df_slice_n.head(20)"
   ]
  },
  {
   "cell_type": "markdown",
   "metadata": {},
   "source": [
    "With the focus concentrated, we'd then proceed to group the data by `year`, `n`\n",
    "and `type` and use size as the group accumlator in order to get the count of\n",
    "each type in each `n` in each `year`."
   ]
  },
  {
   "cell_type": "code",
   "execution_count": null,
   "metadata": {},
   "outputs": [],
   "source": [
    "df_n_groups = df_slice_n.groupby(['year', 'n', 'type']).size()\n",
    "df_n_groups.head(20)"
   ]
  },
  {
   "cell_type": "markdown",
   "metadata": {},
   "source": [
    "The next thing to do is to get the total count of `type` in each group and\n",
    "divide the value of actress in that group by that total count to produce the\n",
    "ratio of actress in that group. In our current results so far, the `type` is a\n",
    "stacked index and it may be difficult, albeit possible, to compute the desired\n",
    "values in that format. One way we can do it easily is to unstack the type index\n",
    "so as to have the type values side by side."
   ]
  },
  {
   "cell_type": "code",
   "execution_count": null,
   "metadata": {},
   "outputs": [],
   "source": [
    "df_n_groups = df_n_groups.unstack('type')\n",
    "df_n_groups.head(20)"
   ]
  },
  {
   "cell_type": "markdown",
   "metadata": {},
   "source": [
    "With that, we can now get the fraction by summing the types and using the sum as\n",
    "the divisor of the type `actress`;"
   ]
  },
  {
   "cell_type": "code",
   "execution_count": null,
   "metadata": {},
   "outputs": [],
   "source": [
    "actress_frac = df_n_groups.actress / (df_n_groups.actress + df_n_groups.actor)\n",
    "actress_frac.head(20)"
   ]
  },
  {
   "cell_type": "markdown",
   "metadata": {},
   "source": [
    "With that we have achieved the results and we can see the ratio of actress for\n",
    "each year and for each cast ranking for n=1 through n=4. However, we'd like to\n",
    "plot the results and create a line for each `n` but on the same chart. This\n",
    "calls us to turn the `n` index into columns of its individual values. For that,\n",
    "we still use unstack on that index."
   ]
  },
  {
   "cell_type": "code",
   "execution_count": null,
   "metadata": {},
   "outputs": [],
   "source": [
    "actress_frac = actress_frac.unstack('n')\n",
    "actress_frac.head(20)"
   ]
  },
  {
   "cell_type": "markdown",
   "metadata": {},
   "source": [
    "Calling plot on the result above is going to create a chart with a line for each\n",
    "column available in the result above, i.e. the `n` values 1 to 4, against the\n",
    "index which is year."
   ]
  },
  {
   "cell_type": "code",
   "execution_count": null,
   "metadata": {},
   "outputs": [],
   "source": [
    "actress_frac.plot()"
   ]
  },
  {
   "cell_type": "markdown",
   "metadata": {},
   "source": [
    "Let us improve the y-axis by setting the limits as we know that a fraction can\n",
    "only fall between 0 and 1."
   ]
  },
  {
   "cell_type": "code",
   "execution_count": null,
   "metadata": {},
   "outputs": [],
   "source": [
    "actress_frac.plot(ylim=[0, 1])"
   ]
  },
  {
   "cell_type": "markdown",
   "metadata": {},
   "source": [
    "## Working with Dates\n",
    "Working with date types in pandas is an very elegant\n",
    "operation.\n",
    "\n",
    "We can access a number of utility methods related to dates with\n",
    "`dt.<date_attr>.dt.<a_date_method>`. For instance, we can access `year`,\n",
    "`month`, `day`, `dayofweek`, `dayofyear` etc. from the `dt` object.\n",
    "\n",
    "## Working\n",
    "with Multiple Tables\n",
    "With pandas, we can collect data from a different dataframe\n",
    "into another one by doing a `merge` operation."
   ]
  },
  {
   "cell_type": "code",
   "execution_count": null,
   "metadata": {},
   "outputs": [],
   "source": [
    "# df.merge(df2) # try this with cast and release_dates dataa"
   ]
  },
  {
   "cell_type": "markdown",
   "metadata": {},
   "source": [
    "By default, the merge operation is going to look for columns sharing names\n",
    "between the two dataframes and it's going to use that as the merge key. This\n",
    "does not always work and sometimes we may want to pass arguments to the merge\n",
    "operation to instruct pandas on how to conduct the merge.\n",
    "\n",
    "## Pivoting\n",
    "With\n",
    "pandas,sometimes we may want to unstack a column into the horizontal index and\n",
    "fill the values with the corresponding value from the values column for each\n",
    "cell i.e. spreading. We'd proceed by;\n",
    "\n",
    "- indexing the target column -\n",
    "`df.set_index(['<target_y_index','<target_x_index>'])`\n",
    "- focusing on the values\n",
    "column - `df['<target_value_col>']` \n",
    "- unstack the target(index) column\n",
    "\n",
    "For\n",
    "instance, consider that we have a table as follows;\n",
    "\n",
    "| year | gender |\n",
    "population |\n",
    "|:-----|:-------|:-----------|\n",
    "| 1920 | male   | 2000       |\n",
    "|\n",
    "1920 | female | 2100       |\n",
    "| 1921 | male   | 2300       |\n",
    "| 1921 | female |\n",
    "2250       |\n",
    "\n",
    "\n",
    "And we'd like to have a side by side comparison of population\n",
    "values for each gender per year as follows;\n",
    "\n",
    "| year/gender | male    | female\n",
    "|\n",
    "|:------------|:--------|:-----------|\n",
    "| 1920        | 2000    | 2100       |\n",
    "| 1921        | 2300    | 2250       |\n",
    "\n",
    "We'd do something of the following sort;"
   ]
  },
  {
   "cell_type": "code",
   "execution_count": null,
   "metadata": {},
   "outputs": [],
   "source": [
    "# df = df.set_index(['year','gender']).sort_index()\n",
    "# df = df['population']\n",
    "# df.unstack('gender')"
   ]
  },
  {
   "cell_type": "markdown",
   "metadata": {},
   "source": [
    "This is a pretty common opertion that pandas has the `pivot` method that does\n",
    "exactly that; setting a column as a horizontal index and filling the values with\n",
    "another column values to get a side by side view of the values for each of the\n",
    "unstacked column entries."
   ]
  },
  {
   "cell_type": "code",
   "execution_count": null,
   "metadata": {},
   "outputs": [],
   "source": [
    "# df = df.pivot('year', 'gender', 'population')"
   ]
  },
  {
   "cell_type": "markdown",
   "metadata": {},
   "source": [
    "## Appendix\n",
    "### Some methods to keep in mind\n",
    "\n",
    "- `s.str.` - access string methods\n",
    "on a series e.g. starts_with, join etc.\n",
    "- `s.sort_index` - sort by the index\n",
    "-\n",
    "`s.value_counts` - entry frequencies\n",
    "- `df[condition1 & condition2]` - chaining\n",
    "conditions when filtering columns. Use bitwise | for conditional `or` in pandas.\n",
    "- `df.loc[<row_indexer>, <col_indexer>]` - access numpy-like row and column"
   ]
  }
 ],
 "metadata": {
  "kernelspec": {
   "display_name": "Python 3",
   "language": "python",
   "name": "python3"
  },
  "language_info": {
   "codemirror_mode": {
    "name": "ipython",
    "version": 3
   },
   "file_extension": ".py",
   "mimetype": "text/x-python",
   "name": "python",
   "nbconvert_exporter": "python",
   "pygments_lexer": "ipython3",
   "version": "3.7.1"
  }
 },
 "nbformat": 4,
 "nbformat_minor": 2
}
